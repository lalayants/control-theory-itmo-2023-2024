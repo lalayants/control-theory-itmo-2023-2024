{
 "cells": [
  {
   "cell_type": "markdown",
   "metadata": {},
   "source": [
    "Кирилл Лалаянц, R33352"
   ]
  },
  {
   "cell_type": "markdown",
   "metadata": {},
   "source": [
    "# Лабораторная работа No4\n",
    "## Астатизмы"
   ]
  },
  {
   "cell_type": "markdown",
   "metadata": {},
   "source": [
    "Импорт необходимых для работы библиотек. "
   ]
  },
  {
   "cell_type": "code",
   "execution_count": null,
   "metadata": {},
   "outputs": [],
   "source": [
    "import matplotlib.pyplot as plt\n",
    "import numpy as np\n",
    "import control \n",
    "import sympy\n",
    "import os\n",
    "from tbcontrol.symbolic import routh\n",
    "import math\n",
    "import tqdm\n",
    "\n",
    "SAVE_PATH = 'tex-report/figs/'\n",
    "os.makedirs(SAVE_PATH, exist_ok=True)\n",
    "\n",
    "sympy.init_printing()\n",
    "p = sympy.Symbol(\"p\")\n",
    "s = sympy.Symbol(\"s\")\n",
    "t = sympy.Symbol(\"t\")\n",
    "T = sympy.Symbol(\"T\")\n",
    "I = sympy.I\n",
    "\n",
    "\n",
    "def get_t(end_t = 10, dt=0.001, start_t = 0):\n",
    "    return np.linspace(start_t, end_t, int(end_t / dt))"
   ]
  },
  {
   "cell_type": "markdown",
   "metadata": {},
   "source": [
    "Task 1"
   ]
  },
  {
   "cell_type": "code",
   "execution_count": null,
   "metadata": {},
   "outputs": [],
   "source": [
    "def task1_tf(m1, m2):\n",
    "    poly = sympy.simplify((p - m1) * (p - m2))\n",
    "    coeffs = sympy.Poly(poly, p).all_coeffs()\n",
    "    print(coeffs)\n",
    "    ss = control.tf2ss(control.tf(1, np.array(coeffs, dtype=np.float64)))\n",
    "    ss_reachable = control.canonical_form(ss, form=\"reachable\")[0]\n",
    "    return ss_reachable\n",
    "\n",
    "def task1_simulate(m1, m2, k0, k1, ts, dt, gs, y0=2, closed_loop=True):\n",
    "    TF = task1_tf(m1, m2)\n",
    "    u = lambda e, de: k0 * e + k1 * de\n",
    "    ys = [y0]\n",
    "    dys = [0]\n",
    "    es = [gs[0] - ys[0]]\n",
    "    des = [0]\n",
    "    us = []\n",
    "    for indx, t in enumerate(ts):\n",
    "        if indx < 1:\n",
    "            continue\n",
    "        \n",
    "        us.append(u(es[-1], des[-1]))\n",
    "        output = control.forced_response(TF, T=[t, t + dt], U=us[-1], X0=[dys[-1], ys[-1]])\n",
    "        \n",
    "        ys.append(output.outputs[-1])\n",
    "        dys.append((ys[-1] - ys[-2]) / dt)\n",
    "        if closed_loop:\n",
    "            es.append(gs[indx] - ys[-1])\n",
    "            des.append((es[-1] - es[-2]) / dt)\n",
    "    ys = np.array(ys)\n",
    "    us = np.array(us)\n",
    "    gs = np.array(gs)\n",
    "    dys = np.array(dys)\n",
    "    des = np.array(des)\n",
    "    es = np.array(es)\n",
    "    return ys, (es, gs, us, dys, des)\n",
    "\n",
    "def plot_task1(ys_open, ys_closed, gs, ts, save_name):\n",
    "    f_size = 40\n",
    "    fig, axs = plt.subplots(1, 2, figsize=(25, 17))\n",
    "    fig.suptitle(f\"Задание 1. Задача стабилизации с идеальным дифференцирующим звеном\", fontsize=f_size, y=1)\n",
    "\n",
    "    axs[0].plot(ts, ys_open, 'b', linewidth=8, label = 'y')\n",
    "    axs[0].plot(ts, gs, 'r--', linewidth=8, label = f'g')\n",
    "    axs[0].set_title(f\"Open loop\", fontsize=f_size)\n",
    "    axs[0].set_xlabel(f\"t, [c]\", fontsize=f_size)\n",
    "    axs[0].set_ylabel(f\"y\", fontsize=f_size)\n",
    "    axs[0].tick_params(axis='both', which='major', labelsize=f_size/1.5)\n",
    "    axs[0].tick_params(axis='both', which='minor', labelsize=f_size/1.5)\n",
    "    \n",
    "    axs[0].grid(True)\n",
    "    axs[0].legend(fontsize=f_size, title_fontsize=f_size)\n",
    "    \n",
    "    axs[1].plot(ts, ys_closed, \"b\", linewidth=8, label = 'y')\n",
    "    axs[1].plot(ts, gs, \"r--\", linewidth=8, label = 'g')\n",
    "    axs[1].set_title(r\"Closed loop\", fontsize=f_size)\n",
    "    axs[1].set_xlabel(f\"t, [c]\", fontsize=f_size)\n",
    "    axs[1].set_ylabel(r\"y\", fontsize=f_size)\n",
    "    axs[1].tick_params(axis='both', which='major', labelsize=f_size/1.5)\n",
    "    axs[1].tick_params(axis='both', which='minor', labelsize=f_size/1.5)\n",
    "    axs[1].grid(True)\n",
    "    axs[1].legend(fontsize=f_size, title_fontsize=f_size)\n",
    "    \n",
    "    plt.savefig(f'{SAVE_PATH}/{save_name}')\n",
    "    plt.show()"
   ]
  },
  {
   "cell_type": "code",
   "execution_count": null,
   "metadata": {},
   "outputs": [],
   "source": [
    "dt = 0.001\n",
    "m1, m2 = -1, 2\n",
    "\n",
    "ts = get_t(10, dt=dt)\n",
    "k0, k1 = 1000, 4\n",
    "g = lambda t: 0 + 0 * t\n",
    "\n",
    "task1_closed, _ = task1_simulate(m1, m2, k0, k1, ts, dt, g(ts))\n",
    "task1_open, _ = task1_simulate(m1, m2, k0, k1, ts, dt, g(ts), closed_loop=False)\n",
    "plot_task1(task1_open, task1_closed, g(ts), ts, 'task1.jpg')"
   ]
  },
  {
   "cell_type": "markdown",
   "metadata": {},
   "source": [
    "Task 2"
   ]
  },
  {
   "cell_type": "code",
   "execution_count": null,
   "metadata": {},
   "outputs": [],
   "source": [
    "def task2_tfd(T):\n",
    "    return control.tf([1, 0], [T, 1])\n",
    "\n",
    "def task2_simulate_TF(m1, m2, T, k0, k1, ts, gs, y0=2):\n",
    "    TF = task1_tf(m1, m2)\n",
    "    TFd = task2_tfd(T)\n",
    "    PD = k0 + k1 * TFd\n",
    "    system = control.feedback(PD * TF, 1, -1)\n",
    "    system_reachable = control.canonical_form(control.tf2ss(system), form=\"reachable\")[0]\n",
    "    X0 = np.linalg.pinv(system_reachable.C) * [y0]\n",
    "    return control.forced_response(system_reachable, ts, U = gs, X0 = X0).outputs\n",
    "\n",
    "def plot_task2(ys_open, ys_closed, gs, ts, save_name):\n",
    "    f_size = 40\n",
    "    fig, axs = plt.subplots(1, 2, figsize=(25, 17))\n",
    "    fig.suptitle(f\"Задание 1. Задача стабилизации с идеальным дифференцирующим звеном\", fontsize=f_size, y=1)\n",
    "\n",
    "    axs[0].plot(ts, ys_open, 'b', linewidth=8, label = 'y')\n",
    "    axs[0].plot(ts, gs, 'r--', linewidth=8, label = f'g')\n",
    "    axs[0].set_title(f\"Open loop\", fontsize=f_size)\n",
    "    axs[0].set_xlabel(f\"t, [c]\", fontsize=f_size)\n",
    "    axs[0].set_ylabel(f\"y\", fontsize=f_size)\n",
    "    axs[0].tick_params(axis='both', which='major', labelsize=f_size/1.5)\n",
    "    axs[0].tick_params(axis='both', which='minor', labelsize=f_size/1.5)\n",
    "    \n",
    "    axs[0].grid(True)\n",
    "    axs[0].legend(fontsize=f_size, title_fontsize=f_size)\n",
    "    \n",
    "    axs[1].plot(ts, ys_closed, \"b\", linewidth=8, label = 'y')\n",
    "    axs[1].plot(ts, gs, \"r--\", linewidth=8, label = 'g')\n",
    "    axs[1].set_title(r\"Closed loop\", fontsize=f_size)\n",
    "    axs[1].set_xlabel(f\"t, [c]\", fontsize=f_size)\n",
    "    axs[1].set_ylabel(r\"y\", fontsize=f_size)\n",
    "    axs[1].tick_params(axis='both', which='major', labelsize=f_size/1.5)\n",
    "    axs[1].tick_params(axis='both', which='minor', labelsize=f_size/1.5)\n",
    "    axs[1].grid(True)\n",
    "    axs[1].legend(fontsize=f_size, title_fontsize=f_size)\n",
    "    \n",
    "    plt.savefig(f'{SAVE_PATH}/{save_name}')\n",
    "    plt.show()"
   ]
  },
  {
   "cell_type": "code",
   "execution_count": null,
   "metadata": {},
   "outputs": [],
   "source": [
    "closed_loop_sympy.simplify()"
   ]
  },
  {
   "cell_type": "code",
   "execution_count": null,
   "metadata": {},
   "outputs": [],
   "source": [
    "W = 1 / sympy.simplify((s - m1) * (s - m2))\n",
    "dW = s / (T * s + 1)\n",
    "open_loop_sympy = (k0 + k1 * dW) * W\n",
    "closed_loop_sympy = (open_loop_sympy / (1 + open_loop_sympy)).simplify()\n",
    "denum = sympy.fraction(closed_loop_sympy)[1]\n",
    "routh_matrix = routh(sympy.Poly(denum, s))\n",
    "sympy.solve([e > 0 for e in routh_matrix[:, 0]], T, rational=True, simplify=True)"
   ]
  },
  {
   "cell_type": "code",
   "execution_count": null,
   "metadata": {},
   "outputs": [],
   "source": [
    "-3 / 1996 - np.sqrt(11985) / 1996, -3 / 1996 + np.sqrt(11985) / 1996"
   ]
  },
  {
   "cell_type": "code",
   "execution_count": null,
   "metadata": {},
   "outputs": [],
   "source": [
    "T = 10**-5\n",
    "plt.figure(figsize=(12.5, 7.5))\n",
    "for T in [0.001, 0.01, 0.0533447017898548, 0.1]:\n",
    "    print(T)\n",
    "    ts = get_t(5, dt = min(0.0001, T / 100))\n",
    "    task2_r = task2_simulate_TF(m1, m2, T, k0, k1, ts, g(ts))\n",
    "    plt.plot(ts, task2_r, label = f'T={T: .3f}')\n",
    "    T *= 100\n",
    "# T = 0.0533447017898548\n",
    "# ts = get_t(5, dt = T / 100)\n",
    "# task2_r = task2_simulate_TF(m1, m2, T, k0, k1, ts, g(ts))\n",
    "# plt.plot(ts, task2_r, label = f'T={T}')\n",
    "plt.title('Задание 2. Задача стабилизации с реальным дифференцирующим звеном.', fontsize=20)\n",
    "plt.xlabel(\"$t, [c]$\", fontsize=20)\n",
    "plt.ylabel(\"y\", fontsize=20)\n",
    "plt.grid(True)\n",
    "plt.legend(fontsize=20)\n",
    "plt.savefig(f'{SAVE_PATH}/task2.jpg')\n",
    "plt.show()"
   ]
  },
  {
   "cell_type": "markdown",
   "metadata": {},
   "source": [
    "Task 3"
   ]
  },
  {
   "cell_type": "code",
   "execution_count": null,
   "metadata": {},
   "outputs": [],
   "source": [
    "def fftnoise(f):\n",
    "    f = np.array(f, dtype='complex')\n",
    "    Np = (len(f) - 1) // 2\n",
    "    phases = np.random.rand(Np) * 2 * np.pi\n",
    "    phases = np.cos(phases) + 1j * np.sin(phases)\n",
    "    f[1:Np+1] *= phases\n",
    "    f[-1:-1-Np:-1] = np.conj(f[1:Np+1])\n",
    "    return np.fft.ifft(f).real\n",
    "\n",
    "def band_limited_noise(min_freq, max_freq, samples=1024, samplerate=1):\n",
    "    freqs = np.abs(np.fft.fftfreq(samples, 1/samplerate))\n",
    "    f = np.zeros(samples)\n",
    "    idx = np.where(np.logical_and(freqs>=min_freq, freqs<=max_freq))[0]\n",
    "    f[idx] = 1\n",
    "    return fftnoise(f)\n",
    "\n",
    "ts = get_t(10)\n",
    "noise = band_limited_noise(0, len(ts), len(ts), len(ts))\n"
   ]
  },
  {
   "cell_type": "code",
   "execution_count": null,
   "metadata": {},
   "outputs": [],
   "source": [
    "\n",
    "m1, m2 = -1, 2\n",
    "task3_ys, _ = task1_simulate(m1, m2, k0, k1, ts, dt, g(ts))\n",
    "task3_ys_noise, _ = task1_simulate(m1, m2, k0, k1, ts, dt, g(ts) + noise)\n",
    "task3_ys_noise10, _ = task1_simulate(m1, m2, k0, k1, ts, dt, g(ts) + noise*10)\n",
    "\n",
    "plt.figure(figsize=(12.5, 7.5))\n",
    "plt.plot(ts[:len(task3_ys_noise10)], task3_ys_noise10, label = f'10 * noise, Err = {np.sum((task3_ys_noise10 - task3_ys)**2):.2}')\n",
    "plt.plot(ts[:len(task3_ys_noise)], task3_ys_noise, label = f'noise, Err = {np.sum((task3_ys_noise - task3_ys)**2):.2}')\n",
    "\n",
    "plt.title('Задание 3. Исследование влияния шума.', fontsize=20)\n",
    "plt.xlabel(\"$t, [c]$\", fontsize=20)\n",
    "plt.ylabel(\"y\", fontsize=20)\n",
    "plt.grid(True)\n",
    "plt.legend(fontsize=20)\n",
    "plt.savefig(f'{SAVE_PATH}/task3.jpg')\n",
    "plt.show()"
   ]
  },
  {
   "cell_type": "code",
   "execution_count": null,
   "metadata": {},
   "outputs": [],
   "source": [
    "plt.figure(figsize=(12.5, 7.5))\n",
    "for T in [0.001, 0.01, 0.025]:\n",
    "    print(T)\n",
    "    task2_r = task2_simulate_TF(m1, m2, T, k0, k1, ts, g(ts) + noise)\n",
    "    plt.plot(ts, task2_r, label = f'T={T: .3f}')\n",
    "# plt.plot(ts[:len(task3_ys_noise10)], task3_ys_noise10, label = f'10 * noise, Err = {np.sum((task3_ys_noise10 - task3_ys)**2):.2}')\n",
    "# plt.plot(ts[:len(task3_ys_noise)], task3_ys_noise, label = f'noise, Err = {np.sum((task3_ys_noise - task3_ys)**2):.2}')\n",
    "\n",
    "plt.title('Задание 3. Исследование влияния шума.', fontsize=20)\n",
    "plt.xlabel(\"$t, [c]$\", fontsize=20)\n",
    "plt.ylabel(\"y\", fontsize=20)\n",
    "plt.grid(True)\n",
    "plt.legend(fontsize=20)\n",
    "plt.savefig(f'{SAVE_PATH}/task3_ts.jpg')\n",
    "plt.show()"
   ]
  },
  {
   "cell_type": "code",
   "execution_count": null,
   "metadata": {},
   "outputs": [],
   "source": [
    "g(ts).shape, noise.shape"
   ]
  },
  {
   "cell_type": "markdown",
   "metadata": {},
   "source": [
    "Task 4"
   ]
  },
  {
   "cell_type": "code",
   "execution_count": null,
   "metadata": {},
   "outputs": [],
   "source": [
    "dt = 0.001\n",
    "\n",
    "ts = get_t(10, dt=dt)\n",
    "\n",
    "def task4_tf(m1, m2, bs):\n",
    "    poly = sympy.simplify((p - m1) * (p - m2))\n",
    "    coeffs = sympy.Poly(poly, p).all_coeffs()\n",
    "    dev = float(coeffs[0])\n",
    "    coeffs = np.array(coeffs, dtype=np.float64) / dev\n",
    "    bs = np.array(bs) / dev\n",
    "    return control.tf(bs, coeffs), coeffs[1:], bs\n",
    "\n",
    "def get_limit_t4(K, t4_b1, t4_b0, t4_a1, t4_a0, u):\n",
    "    b1, b0, a1, a0, k, t = sympy.symbols('b1 b0 a1 a0 k t')\n",
    "    U = sympy.laplace_transform(u, t, s)[0]\n",
    "    W_sympy = k * (b1 * s + b0) / (s**2 + a1*s + a0)\n",
    "    W_closed = 1 / (1 + W_sympy)\n",
    "\n",
    "\n",
    "    limit = (W_closed * U * s).subs({k:K, b1: t4_b1, b0: t4_b0, a1: t4_a1, a0: t4_a0})\n",
    "    return float(sympy.N(sympy.limit(limit, s, 0)))\n",
    "\n",
    "def t4_get_result(m1, m2, bs, K, u, ts):\n",
    "    uf = sympy.lambdify(t, u)\n",
    "    W, coeffs_a, coeffs_b = task4_tf(m1, m2, bs)\n",
    "    W_open = K * W\n",
    "    W_system = control.feedback(W_open, 1, -1)\n",
    "    limit_e = get_limit_t4(K, *coeffs_b, *coeffs_a, u)\n",
    "    y = control.forced_response(W_system, ts, uf(ts)).outputs\n",
    "    return y, [uf(t) for t in ts], limit_e, coeffs_a, coeffs_b\n"
   ]
  },
  {
   "cell_type": "code",
   "execution_count": null,
   "metadata": {},
   "outputs": [],
   "source": [
    "K = 100\n",
    "u = 0*t + 1\n",
    "m1, m2 = -3, -2\n",
    "bs = [1, 1]\n",
    "plt.figure(figsize=(12.5, 7.5))\n",
    "for K in [0.1, 1, 10, 100, 1000]:\n",
    "    ys, us, le, ca, cb = t4_get_result(m1, m2, bs, K, u, ts)\n",
    "    plt.plot(ts, ys, label = f'k = {K}, e -> {le :.2f}')\n",
    "\n",
    "plt.plot(ts, us, label = f'goal')\n",
    "plt.title('Задание 4. Задача слежения для системы с астатизмом нулевого порядка.\\n Влияние k.', fontsize=20)\n",
    "plt.xlabel(\"$t, [c]$\", fontsize=20)\n",
    "plt.ylabel(\"y\", fontsize=20)\n",
    "plt.grid(True)\n",
    "plt.legend(fontsize=15)\n",
    "plt.savefig(f'{SAVE_PATH}/task4_const.jpg')\n",
    "plt.show()"
   ]
  },
  {
   "cell_type": "code",
   "execution_count": null,
   "metadata": {},
   "outputs": [],
   "source": [
    "K = 100\n",
    "u = 1*t + 1\n",
    "m1, m2 = -3, -2\n",
    "bs = [1, 1]\n",
    "plt.figure(figsize=(12.5, 7.5))\n",
    "for K in [0.1, 1, 10, 100, 1000]:\n",
    "    ys, us, le, ca, cb = t4_get_result(m1, m2, bs, K, u, ts)\n",
    "    plt.plot(ts, ys, label = f'k = {K}, e -> {le :.2f}')\n",
    "\n",
    "plt.plot(ts, us, label = f'goal')\n",
    "plt.title('Задание 4. Задача слежения для системы с астатизмом нулевого порядка.\\n Влияние k.', fontsize=20)\n",
    "plt.xlabel(\"$t, [c]$\", fontsize=20)\n",
    "plt.ylabel(\"y\", fontsize=20)\n",
    "plt.grid(True)\n",
    "plt.legend(fontsize=15)\n",
    "plt.savefig(f'{SAVE_PATH}/task4_lin.jpg')\n",
    "plt.show()"
   ]
  },
  {
   "cell_type": "code",
   "execution_count": null,
   "metadata": {},
   "outputs": [],
   "source": [
    "K = 100\n",
    "u = sympy.sin(t)\n",
    "m1, m2 = -3, -2\n",
    "bs = [1, 1]\n",
    "plt.figure(figsize=(12.5, 7.5))\n",
    "for K in [0.1, 1, 10, 100, 1000]:\n",
    "    ys, us, le, ca, cb = t4_get_result(m1, m2, bs, K, u, ts)\n",
    "    plt.plot(ts, ys, label = f'k = {K}')\n",
    "\n",
    "plt.plot(ts, us, label = f'goal')\n",
    "plt.title('Задание 4. Задача слежения для системы с астатизмом нулевого порядка.\\n Влияние k.', fontsize=20)\n",
    "plt.xlabel(\"$t, [c]$\", fontsize=20)\n",
    "plt.ylabel(\"y\", fontsize=20)\n",
    "plt.grid(True)\n",
    "plt.legend(fontsize=15)\n",
    "plt.savefig(f'{SAVE_PATH}/task4_sin.jpg')\n",
    "plt.show()"
   ]
  },
  {
   "cell_type": "markdown",
   "metadata": {},
   "source": [
    "Task 5"
   ]
  },
  {
   "cell_type": "code",
   "execution_count": null,
   "metadata": {},
   "outputs": [],
   "source": [
    "dt = 0.001\n",
    "\n",
    "ts = get_t(10, dt=dt)\n",
    "\n",
    "def get_limit_t5(K0, K1, t4_b1, t4_b0, t4_a1, t4_a0, u):\n",
    "    b1, b0, a1, a0, k0, k1, t = sympy.symbols('b1 b0 a1 a0 k0 k1 t')\n",
    "    U = sympy.laplace_transform(u, t, s)[0]\n",
    "    W_sympy = (k0 + k1 / s) * (b1 * s + b0) / (s**2 + a1*s + a0)\n",
    "    W_closed = 1 / (1 + W_sympy)\n",
    "\n",
    "    limit = (W_closed * U * s).subs({k0:K0, k1:K1, b1: t4_b1, b0: t4_b0, a1: t4_a1, a0: t4_a0})\n",
    "    return float(sympy.N(sympy.limit(limit, s, 0)))\n",
    "\n",
    "def t5_get_result(m1, m2, bs, K0, K1, u, ts):\n",
    "    uf = sympy.lambdify(t, u)\n",
    "    W, coeffs_a, coeffs_b = task4_tf(m1, m2, bs)\n",
    "    W_open = (K0 + control.tf([K1], [1, 0])) * W\n",
    "    W_system = control.feedback(W_open, 1, -1)\n",
    "    limit_e = get_limit_t5(K0, K1, *coeffs_b, *coeffs_a, u)\n",
    "    y = control.forced_response(W_system, ts, uf(ts)).outputs\n",
    "    return y, [uf(t) for t in ts], limit_e, coeffs_a, coeffs_b\n"
   ]
  },
  {
   "cell_type": "code",
   "execution_count": null,
   "metadata": {},
   "outputs": [],
   "source": [
    "K1, K0 = 10, 10\n",
    "u = 0*t**1 + 1\n",
    "m1, m2 = -3, -2 \n",
    "bs = [1, 1]\n",
    "plt.figure(figsize=(12.5, 7.5))\n",
    "for K1 in [0.1, 1, 10, 100, 1000]:\n",
    "    ys, us, le, ca, cb = t5_get_result(m1, m2, bs, K0, K1, u, ts)\n",
    "    plt.plot(ts, ys, label = f'$k1$ = {K1}, e -> {le}')\n",
    "\n",
    "plt.plot(ts, us, label = f'goal')\n",
    "plt.title(f'Задание 5. Задача слежения для системы с астатизмом первого порядка.\\n Влияние $k_1$; $k_0={K0}$.', fontsize=20)\n",
    "plt.xlabel(\"$t, [c]$\", fontsize=20)\n",
    "plt.ylabel(\"y\", fontsize=20)\n",
    "plt.grid(True)\n",
    "plt.legend(fontsize=15)\n",
    "plt.savefig(f'{SAVE_PATH}/task5_k1_const.jpg')\n",
    "plt.show()"
   ]
  },
  {
   "cell_type": "code",
   "execution_count": null,
   "metadata": {},
   "outputs": [],
   "source": [
    "K1, K0 = 10, 10\n",
    "u = 1*t**1 + 1\n",
    "m1, m2 = -3, -2 \n",
    "bs = [1, 1]\n",
    "plt.figure(figsize=(12.5, 7.5))\n",
    "for K1 in [0.1, 1, 10, 100, 1000]:\n",
    "    ys, us, le, ca, cb = t5_get_result(m1, m2, bs, K0, K1, u, ts)\n",
    "    plt.plot(ts, ys, label = f'$k1$ = {K1}, e -> {le}')\n",
    "\n",
    "plt.plot(ts, us, label = f'goal')\n",
    "plt.title(f'Задание 5. Задача слежения для системы с астатизмом первого порядка.\\n Влияние $k_1$; $k_0={K0}$.', fontsize=20)\n",
    "plt.xlabel(\"$t, [c]$\", fontsize=20)\n",
    "plt.ylabel(\"y\", fontsize=20)\n",
    "plt.grid(True)\n",
    "plt.legend(fontsize=15)\n",
    "plt.savefig(f'{SAVE_PATH}/task5_k1_lin.jpg')\n",
    "plt.show()"
   ]
  },
  {
   "cell_type": "code",
   "execution_count": null,
   "metadata": {},
   "outputs": [],
   "source": [
    "K1, K0 = 10, 10\n",
    "u = sympy.sin(t)\n",
    "m1, m2 = -3, -2 \n",
    "bs = [1, 1]\n",
    "plt.figure(figsize=(12.5, 7.5))\n",
    "for K1 in [0.1, 1, 10, 100, 1000]:\n",
    "    ys, us, le, ca, cb = t5_get_result(m1, m2, bs, K0, K1, u, ts)\n",
    "    plt.plot(ts, ys, label = f'$k1$ = {K1}, e -> {le}')\n",
    "\n",
    "plt.plot(ts, us, label = f'goal')\n",
    "plt.title(f'Задание 5. Задача слежения для системы с астатизмом первого порядка.\\n Влияние $k_1$; $k_0={K0}$.', fontsize=20)\n",
    "plt.xlabel(\"$t, [c]$\", fontsize=20)\n",
    "plt.ylabel(\"y\", fontsize=20)\n",
    "plt.grid(True)\n",
    "plt.legend(fontsize=15)\n",
    "plt.savefig(f'{SAVE_PATH}/task5_k1_sin.jpg')\n",
    "plt.show()"
   ]
  },
  {
   "cell_type": "code",
   "execution_count": null,
   "metadata": {},
   "outputs": [],
   "source": [
    "K1, K0 = 10, 10\n",
    "u = 0*t**1 + 1\n",
    "m1, m2 = -3, -2 \n",
    "bs = [1, 1]\n",
    "plt.figure(figsize=(12.5, 7.5))\n",
    "for K0 in [0.1, 1, 10, 100, 1000]:\n",
    "    ys, us, le, ca, cb = t5_get_result(m1, m2, bs, K0, K1, u, ts)\n",
    "    plt.plot(ts, ys, label = f'$k0$ = {K0}, e -> {le}')\n",
    "\n",
    "plt.plot(ts, us, label = f'goal')\n",
    "plt.title(f'Задание 5. Задача слежения для системы с астатизмом первого порядка.\\n Влияние $k_0$; $k_1={K1}$.', fontsize=20)\n",
    "plt.xlabel(\"$t, [c]$\", fontsize=20)\n",
    "plt.ylabel(\"y\", fontsize=20)\n",
    "plt.grid(True)\n",
    "plt.legend(fontsize=15)\n",
    "plt.savefig(f'{SAVE_PATH}/task5_k0_const.jpg')\n",
    "plt.show()"
   ]
  },
  {
   "cell_type": "code",
   "execution_count": null,
   "metadata": {},
   "outputs": [],
   "source": [
    "K1, K0 = 10, 10\n",
    "u = 1*t**1 + 1\n",
    "m1, m2 = -3, -2 \n",
    "bs = [1, 1]\n",
    "plt.figure(figsize=(12.5, 7.5))\n",
    "for K0 in [0.1, 1, 10, 100, 1000]:\n",
    "    ys, us, le, ca, cb = t5_get_result(m1, m2, bs, K0, K1, u, ts)\n",
    "    plt.plot(ts, ys, label = f'$k0$ = {K0}, e -> {le}')\n",
    "\n",
    "plt.plot(ts, us, label = f'goal')\n",
    "plt.title(f'Задание 5. Задача слежения для системы с астатизмом первого порядка.\\n Влияние $k_0$; $k_1={K1}$.', fontsize=20)\n",
    "plt.xlabel(\"$t, [c]$\", fontsize=20)\n",
    "plt.ylabel(\"y\", fontsize=20)\n",
    "plt.grid(True)\n",
    "plt.legend(fontsize=15)\n",
    "plt.savefig(f'{SAVE_PATH}/task5_k0_lin.jpg')\n",
    "plt.show()"
   ]
  },
  {
   "cell_type": "code",
   "execution_count": null,
   "metadata": {},
   "outputs": [],
   "source": [
    "K1, K0 = 10, 10\n",
    "u = sympy.sin(t)\n",
    "m1, m2 = -3, -2 \n",
    "bs = [1, 1]\n",
    "plt.figure(figsize=(12.5, 7.5))\n",
    "for K0 in [0.1, 1, 10, 100, 1000]:\n",
    "    ys, us, le, ca, cb = t5_get_result(m1, m2, bs, K0, K1, u, ts)\n",
    "    plt.plot(ts, ys, label = f'$k0$ = {K0}, e -> {le}')\n",
    "\n",
    "plt.plot(ts, us, label = f'goal')\n",
    "plt.title(f'Задание 5. Задача слежения для системы с астатизмом первого порядка.\\n Влияние $k_0$; $k_1={K1}$.', fontsize=20)\n",
    "plt.xlabel(\"$t, [c]$\", fontsize=20)\n",
    "plt.ylabel(\"y\", fontsize=20)\n",
    "plt.grid(True)\n",
    "plt.legend(fontsize=15)\n",
    "plt.savefig(f'{SAVE_PATH}/task5_k0_sin.jpg')\n",
    "plt.show()"
   ]
  },
  {
   "cell_type": "markdown",
   "metadata": {},
   "source": [
    "Task 6"
   ]
  },
  {
   "cell_type": "code",
   "execution_count": null,
   "metadata": {},
   "outputs": [],
   "source": [
    "w1, w2 = 3, 2\n",
    "alpha = 1\n",
    "\n",
    "\n",
    "g = sympy.sin(w1*t) * sympy.cos(w2*t) * alpha\n",
    "G = sympy.laplace_transform(g, t, s)[0]\n",
    "Ng, Dg = sympy.fraction(G)\n",
    "W = 1 / s ** 2\n",
    "Nw, Dw = sympy.fraction(W)"
   ]
  },
  {
   "cell_type": "code",
   "execution_count": null,
   "metadata": {},
   "outputs": [],
   "source": [
    "G"
   ]
  },
  {
   "cell_type": "code",
   "execution_count": null,
   "metadata": {},
   "outputs": [],
   "source": [
    "r, Nr, a0, a1, a2, a3, a4 = sympy.symbols('r Nr a0:5')\n",
    "Dr = Dg * (s + r)\n",
    "Nr = a3 * s**3 + a2 * s**2 + a1 * s + a0"
   ]
  },
  {
   "cell_type": "code",
   "execution_count": null,
   "metadata": {},
   "outputs": [],
   "source": [
    "denum = sympy.collect((Dr + Nr).expand(), s)\n",
    "desired = 1\n",
    "for i in range(1, 6):\n",
    "    desired *= s + i"
   ]
  },
  {
   "cell_type": "code",
   "execution_count": null,
   "metadata": {},
   "outputs": [],
   "source": [
    "sympy.collect(denum.evalf(subs={a0: -255, r: 15,a3: 59,a2: -165,a1: 249}).expand(), s)"
   ]
  },
  {
   "cell_type": "code",
   "execution_count": null,
   "metadata": {},
   "outputs": [],
   "source": [
    "sympy.Poly(desired)"
   ]
  },
  {
   "cell_type": "code",
   "execution_count": null,
   "metadata": {},
   "outputs": [],
   "source": [
    "Dr = Dg * (s + 15)\n",
    "Dr.expand()"
   ]
  },
  {
   "cell_type": "code",
   "execution_count": null,
   "metadata": {},
   "outputs": [],
   "source": [
    "TF_r = control.tf([59, -165, 249, -255, 0, 0], [1, 15, 26, 390, 25, 375])\n",
    "TF = control.tf([1], [1, 0, 0])"
   ]
  },
  {
   "cell_type": "code",
   "execution_count": null,
   "metadata": {},
   "outputs": [],
   "source": [
    "TF_e = 1 / (1 + TF * TF_r)\n",
    "TF_y = TF * TF_r / (1 + TF * TF_r)\n",
    "fg = lambda t: np.sin(w1*t) * np.cos(w2*t)"
   ]
  },
  {
   "cell_type": "code",
   "execution_count": null,
   "metadata": {},
   "outputs": [],
   "source": [
    "ts = get_t(10)\n",
    "y = control.forced_response(TF_y, ts, fg(ts)).outputs\n",
    "e = control.forced_response(TF_e, ts, fg(ts)).outputs\n"
   ]
  },
  {
   "cell_type": "code",
   "execution_count": null,
   "metadata": {},
   "outputs": [],
   "source": [
    "plt.figure(figsize=(12.5, 7.5))\n",
    "plt.plot(ts, y, label='y')\n",
    "plt.plot(ts, fg(ts), label='goal')\n",
    "plt.plot(ts, e, label='error')\n",
    "plt.title('Задание 6. Исследование линейной системы замкнутой регулятором общего вида.', fontsize=20)\n",
    "plt.xlabel(\"$t, [c]$\", fontsize=20)\n",
    "plt.ylabel(\"y\", fontsize=20)\n",
    "plt.grid(True)\n",
    "plt.legend(fontsize=15)\n",
    "plt.savefig(f'{SAVE_PATH}/task6.jpg')\n",
    "plt.show()"
   ]
  },
  {
   "cell_type": "code",
   "execution_count": null,
   "metadata": {},
   "outputs": [],
   "source": []
  }
 ],
 "metadata": {
  "kernelspec": {
   "display_name": "venv10",
   "language": "python",
   "name": "python3"
  },
  "language_info": {
   "codemirror_mode": {
    "name": "ipython",
    "version": 3
   },
   "file_extension": ".py",
   "mimetype": "text/x-python",
   "name": "python",
   "nbconvert_exporter": "python",
   "pygments_lexer": "ipython3",
   "version": "3.10.9"
  }
 },
 "nbformat": 4,
 "nbformat_minor": 2
}
