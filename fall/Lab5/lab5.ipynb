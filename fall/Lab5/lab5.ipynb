{
 "cells": [
  {
   "cell_type": "markdown",
   "metadata": {},
   "source": [
    "Кирилл Лалаянц, R33352"
   ]
  },
  {
   "cell_type": "markdown",
   "metadata": {},
   "source": [
    "# Лабораторная работа No5\n",
    "## Типовые динамические звенья"
   ]
  },
  {
   "cell_type": "markdown",
   "metadata": {},
   "source": [
    "Вариант 6"
   ]
  },
  {
   "cell_type": "markdown",
   "metadata": {},
   "source": [
    "Импорт необходимых для работы библиотек. "
   ]
  },
  {
   "cell_type": "code",
   "execution_count": null,
   "metadata": {},
   "outputs": [],
   "source": [
    "import matplotlib.pyplot as plt\n",
    "import numpy as np\n",
    "import control \n",
    "import sympy\n",
    "import os\n",
    "\n",
    "SAVE_PATH = 'tex-report/figs/'\n",
    "os.makedirs(SAVE_PATH, exist_ok=True)\n",
    "\n",
    "sympy.init_printing()\n",
    "p = sympy.Symbol(\"p\")\n",
    "s = sympy.Symbol(\"s\")\n",
    "t = sympy.Symbol(\"t\")\n",
    "w = sympy.Symbol(\"w\")\n",
    "I = sympy.I\n",
    "\n",
    "\n",
    "def get_t(end_t = 10, dt=0.001, start_t = 0):\n",
    "    return np.linspace(start_t, end_t, int(end_t / dt))"
   ]
  },
  {
   "cell_type": "code",
   "execution_count": null,
   "metadata": {},
   "outputs": [],
   "source": [
    "def plot_bode(ss, theory_lambda, impulse, step, freqs, plot_name, save_name, max_t = 10, fsize=50):\n",
    "    mag, phase, omega = control.bode(ss, freqs, plot=False)\n",
    "    freqs = np.array(freqs)\n",
    "    theory = theory_lambda(freqs)\n",
    "    mag_theory = np.absolute(theory)\n",
    "    phase_theory = np.angle(theory)\n",
    "    ts = [i/1000 for i in range(0, 1000 * max_t)]\n",
    "    \n",
    "    \n",
    "    fig, axs = plt.subplots(2, 3, figsize=(50, 30))\n",
    "    fig.suptitle(plot_name, fontsize=fsize , y=0.95)\n",
    "    plt.subplots_adjust(left=0.1, bottom=0.1, right=0.9, \n",
    "                    top=0.9, wspace=0.4,hspace=0.4)\n",
    "    axs[0, 0].plot(omega, mag, linewidth=20, label='experiment')\n",
    "    axs[0, 0].plot(omega, mag_theory, 'r--', linewidth=8, label='theory')\n",
    "    axs[0, 0].set_title('AЧХ', fontsize=fsize)\n",
    "    axs[0, 0].grid(True)\n",
    "    axs[0, 0].set_xlabel(f\"Частота, [рад/c]\", fontsize=fsize)\n",
    "    axs[0, 0].set_ylabel(f\"Амплитуда\", fontsize=fsize)\n",
    "    axs[0, 0].tick_params(axis='both', which='major', labelsize=fsize)\n",
    "    axs[0, 0].tick_params(axis='both', which='minor', labelsize=fsize // 1.5)\n",
    "    axs[0, 0].legend(fontsize=45)\n",
    "    \n",
    "    \n",
    "    axs[0, 1].plot(omega, phase, linewidth=20, label='experiment')\n",
    "    axs[0, 1].plot(omega, phase_theory, 'r--', linewidth=8, label='theory')\n",
    "    axs[0, 1].set_title('ФЧХ', fontsize=fsize)\n",
    "    axs[0, 1].grid(True)\n",
    "    axs[0, 1].set_xlabel(f\"Частота, [рад/c]\", fontsize=fsize)\n",
    "    axs[0, 1].set_ylabel(f\"Фаза, [рад]\", fontsize=fsize)\n",
    "    axs[0, 1].tick_params(axis='both', which='major', labelsize=fsize)\n",
    "    axs[0, 1].tick_params(axis='both', which='minor', labelsize=fsize // 1.5)\n",
    "    axs[0, 1].legend(fontsize=45)    \n",
    "    \n",
    "    axs[1, 0].plot(omega, mag, linewidth=20, label='experiment')\n",
    "    axs[1, 0].plot(omega, mag_theory, 'r--', linewidth=8, label='theory')\n",
    "    axs[1, 0].set_title('ЛAЧХ', fontsize=fsize)\n",
    "    axs[1, 0].set_xscale('log')\n",
    "    axs[1, 0].set_yscale('log')\n",
    "    axs[1, 0].grid(True, which=\"both\", ls=\"-\", color='0.65')\n",
    "    axs[1, 0].set_xlabel(f\"Частота, [рад/c]\", fontsize=fsize)\n",
    "    axs[1, 0].set_ylabel(f\"Амплитуда, [дБ]\", fontsize=fsize)\n",
    "    axs[1, 0].tick_params(axis='both', which='major', labelsize=fsize)\n",
    "    axs[1, 0].tick_params(axis='both', which='minor', labelsize=fsize // 1.5)  \n",
    "    axs[1, 0].legend(fontsize=45)  \n",
    "    \n",
    "    axs[1, 1].plot(omega, phase, linewidth=20, label='experiment')\n",
    "    axs[1, 1].plot(omega, phase_theory, 'r--', linewidth=8, label='theory')\n",
    "    axs[1, 1].set_title('ЛФЧХ', fontsize=fsize)\n",
    "    axs[1, 1].set_xscale('log')\n",
    "    axs[1, 1].grid(True, which=\"both\", ls=\"-\", color='0.65')\n",
    "    axs[1, 1].set_xlabel(f\"Частота, [рад/c]\", fontsize=fsize)\n",
    "    axs[1, 1].set_ylabel(f\"Фаза, [рад]\", fontsize=fsize)\n",
    "    axs[1, 1].tick_params(axis='both', which='major', labelsize=fsize)\n",
    "    axs[1, 1].tick_params(axis='both', which='minor', labelsize=fsize // 1.5)\n",
    "    axs[1, 1].legend(fontsize=45)\n",
    "    \n",
    "    \n",
    "    step_response = control.step_response(ss, ts).outputs\n",
    "    axs[0, 2].plot(ts, step_response, linewidth=20, label='experiment')\n",
    "    axs[0, 2].plot(ts, [step(t) for t in ts], 'r--', linewidth=8, label='theory')\n",
    "    axs[0, 2].set_title('Step response', fontsize=fsize)\n",
    "    axs[0, 2].set_xlabel(f\"t, [c]\", fontsize=fsize)\n",
    "    axs[0, 2].set_ylabel(f\"y\", fontsize=fsize)\n",
    "    axs[0, 2].tick_params(axis='both', which='major', labelsize=fsize)\n",
    "    axs[0, 2].tick_params(axis='both', which='minor', labelsize=fsize // 1.5)\n",
    "    axs[0, 2].legend(fontsize=45)\n",
    "    axs[0, 2].grid()\n",
    "    \n",
    "    \n",
    "    impulse_response = control.impulse_response(ss, ts).outputs\n",
    "    axs[1, 2].plot(ts, impulse_response, linewidth=20, label='experiment')\n",
    "    axs[1, 2].plot(ts, [impulse(t) for t in ts], 'r--', linewidth=8, label='theory')\n",
    "    axs[1, 2].set_title('Impulse response', fontsize=fsize)\n",
    "    axs[1, 2].set_xlabel(f\"t, [c]\", fontsize=fsize)\n",
    "    axs[1, 2].set_ylabel(f\"y\", fontsize=fsize)\n",
    "    axs[1, 2].tick_params(axis='both', which='major', labelsize=fsize)\n",
    "    axs[1, 2].tick_params(axis='both', which='minor', labelsize=fsize // 1.5)\n",
    "    axs[1, 2].legend(fontsize=45)\n",
    "    axs[1, 2].grid()\n",
    "    \n",
    "    \n",
    "    plt.savefig(f'{SAVE_PATH}/{save_name}.jpg') \n",
    "    \n",
    "def get_ss_and_theory(subs, sA, sB, sC, sD):\n",
    "    stf = (sC @ (sympy.diag([p] * sA.shape[0], unpack=True) - sA).inv() @ sB + sD)[0]\n",
    "    # print(f'Analytical TF: {stf}')\n",
    "    wjw = stf.subs({p: I*w}).subs(subs)\n",
    "    # print(f'Subs TF: {wjw}')\n",
    "    theory_bode = sympy.lambdify(w, wjw, 'numpy')\n",
    "    \n",
    "    analytical_impulse = sympy.inverse_laplace_transform(stf, p, t)\n",
    "    analytical_step = sympy.inverse_laplace_transform(stf / p, p, t)\n",
    "    print(f'Analitycal ir: {sympy.latex(analytical_impulse)}')\n",
    "    print(f'Analytical sr: {sympy.latex(analytical_step)}')\n",
    "    \n",
    "    analytical_impulse = analytical_impulse.subs(subs)\n",
    "    analytical_step = analytical_step.subs(subs)\n",
    "    print(f'Subs ir: {sympy.latex(analytical_impulse)}')\n",
    "    print(f'Subs sr: {sympy.latex(analytical_step)}')\n",
    "    \n",
    "    analytical_impulse = sympy.lambdify(t, analytical_impulse, 'numpy')\n",
    "    analytical_step = sympy.lambdify(t, analytical_step, 'numpy')\n",
    "    \n",
    "    sympy_to_numpy = lambda mat, subs: np.array(mat.subs(subs)).astype(np.float64)\n",
    "    A = sympy_to_numpy(sA, subs)\n",
    "    B = sympy_to_numpy(sB, subs)\n",
    "    C = sympy_to_numpy(sC, subs)\n",
    "    D = sympy_to_numpy(sD, subs)\n",
    "    \n",
    "    ss = control.ss(A, B, C, D)\n",
    "    print(f'Analytical TF of system: {sympy.latex(stf)}')\n",
    "    print(f'TF of system: {control.ss2tf(ss)}')\n",
    "    \n",
    "    \n",
    "    return ss, theory_bode, analytical_impulse, analytical_step\n"
   ]
  },
  {
   "cell_type": "markdown",
   "metadata": {},
   "source": [
    "## Task 1"
   ]
  },
  {
   "cell_type": "markdown",
   "metadata": {},
   "source": [
    "### 2. Brushed DC motor 2.0."
   ]
  },
  {
   "cell_type": "code",
   "execution_count": null,
   "metadata": {},
   "outputs": [],
   "source": [
    "t2_K_M, t2_K_E, t2_J, t2_R, t2_L = 0.3637, 0.3637, 0.0023, 4.6050, 1.1784\n",
    "k_m, k_e, J, R, L = sympy.symbols('k_m k_e J R L')\n",
    "t2_subs = {k_m: t2_K_M, k_e: t2_K_E, J: t2_J, R: t2_R, L: t2_L}\n",
    "\n",
    "t2_sA = sympy.Matrix([[0, 1 / J], [-k_m * k_e / L, -R / L]])\n",
    "t2_sB = sympy.Matrix([0, k_m / L])\n",
    "t2_sC = sympy.Matrix([[1, 0]])\n",
    "t2_sD = sympy.Matrix([0])\n",
    "\n",
    "t2_ss, t2_theory_bode, t2_impulse, t2_step = get_ss_and_theory(t2_subs, t2_sA, t2_sB, t2_sC, t2_sD)\n",
    "\n",
    "\n",
    "plot_bode(t2_ss, t2_theory_bode, t2_impulse, t2_step, [i/100 for i in range(0, 1000000)], '2. Brushed DC motor 2.0.', '1_2')"
   ]
  },
  {
   "cell_type": "markdown",
   "metadata": {},
   "source": [
    "### 3. Конденсируй. Интегрируй. Умножай."
   ]
  },
  {
   "cell_type": "code",
   "execution_count": null,
   "metadata": {},
   "outputs": [],
   "source": [
    "t3_C = 287 * 10 ** -6\n",
    "C = sympy.symbols('C')\n",
    "t3_subs = {C: t3_C}\n",
    "\n",
    "t3_sA = sympy.Matrix([0])\n",
    "t3_sB = sympy.Matrix([1 / C])\n",
    "t3_sC = sympy.Matrix([1])\n",
    "t3_sD = sympy.Matrix([0])\n",
    "\n",
    "t3_ss, t3_theory, t3_impulse, t3_step = get_ss_and_theory(t3_subs, t3_sA, t3_sB, t3_sC, t3_sD)\n",
    "\n",
    "plot_bode(t3_ss, t3_theory, t3_impulse, t3_step, [i/100 for i in range(1, 1000000)], '3. Конденсируй. Интегрируй. Умножай.', '1_3')"
   ]
  },
  {
   "cell_type": "markdown",
   "metadata": {},
   "source": [
    "## Task 2"
   ]
  },
  {
   "cell_type": "markdown",
   "metadata": {},
   "source": [
    "### 1. Brushed DC motor."
   ]
  },
  {
   "cell_type": "code",
   "execution_count": null,
   "metadata": {},
   "outputs": [],
   "source": [
    "t1_K_M, t1_K_E, t1_J, t1_R, t1_L = 0.3612, 0.3612, 0.0031, 4.7237, 1.0567\n",
    "k_m, k_e, J, R = sympy.symbols('k_m k_e J R')\n",
    "t1_subs = {k_m: t1_K_M, k_e: t1_K_E, J: t1_J, R: t1_R}\n",
    "\n",
    "t1_sA = sympy.Matrix([-k_m * k_e / (J * R)])\n",
    "t1_sB = sympy.Matrix([k_m / (J * R)])\n",
    "t1_sC = sympy.Matrix([[1]])\n",
    "t1_sD = sympy.Matrix([0])\n",
    "\n",
    "t1_ss, t1_theory, t1_impulse, t1_step = get_ss_and_theory(t1_subs, t1_sA, t1_sB, t1_sC, t1_sD)\n",
    "\n",
    "plot_bode(t1_ss, t1_theory, t1_impulse, t1_step, [i/100 for i in range(0, 1000000)], '1. Brushed DC motor.', '2_1')"
   ]
  },
  {
   "cell_type": "markdown",
   "metadata": {},
   "source": [
    "### 4. Tachogenerator."
   ]
  },
  {
   "cell_type": "code",
   "execution_count": null,
   "metadata": {},
   "outputs": [],
   "source": [
    "t4_R, t4_R_l, t4_L, t4_k_e = 5.2188, 263, 0.4577, 0.3427\n",
    "R, R_l, L, k_e = sympy.symbols('R R_l L k_e')\n",
    "t4_subs = {R: t4_R, R_l: t4_R_l, L: t4_L, k_e: t4_k_e}\n",
    "\n",
    "t4_sA = sympy.Matrix([-(R_l + R) / L])\n",
    "t4_sB = sympy.Matrix([k_e])\n",
    "t4_sC = sympy.Matrix([1])\n",
    "t4_sD = sympy.Matrix([0])\n",
    "\n",
    "t4_ss, t4_theory, t4_impulse, t4_step = get_ss_and_theory(t4_subs, t4_sA, t4_sB, t4_sC, t4_sD)\n",
    "\n",
    "print(control.ss2tf(t4_ss))\n",
    "\n",
    "plot_bode(t4_ss, t4_theory, t4_impulse, t4_step, [i/100 for i in range(0, 1000000)], '4. Tachogenerator.', '2_4')"
   ]
  },
  {
   "cell_type": "markdown",
   "metadata": {},
   "source": [
    "### 5. Spring-mass system."
   ]
  },
  {
   "cell_type": "code",
   "execution_count": null,
   "metadata": {},
   "outputs": [],
   "source": [
    "t5_M, t5_k = 35, 324\n",
    "m, k = sympy.symbols('m, k')\n",
    "t5_subs = {m: t5_M, k: t5_k}\n",
    "\n",
    "t5_sA = sympy.Matrix([[0, 1], [-k / m, 0]])\n",
    "t5_sB = sympy.Matrix([[0], [1 / m]])\n",
    "t5_sC = sympy.Matrix([[1, 0]])\n",
    "t5_sD = sympy.Matrix([0])\n",
    "\n",
    "t5_ss, t5_theory, t5_impulse, t5_step = get_ss_and_theory(t5_subs, t5_sA, t5_sB, t5_sC, t5_sD)\n",
    "\n",
    "plot_bode(t5_ss, t5_theory, t5_impulse, t5_step, [i/100 for i in range(0, 1000000)], '5. Spring-mass system.', '2_5')"
   ]
  }
 ],
 "metadata": {
  "kernelspec": {
   "display_name": "venv10",
   "language": "python",
   "name": "python3"
  },
  "language_info": {
   "codemirror_mode": {
    "name": "ipython",
    "version": 3
   },
   "file_extension": ".py",
   "mimetype": "text/x-python",
   "name": "python",
   "nbconvert_exporter": "python",
   "pygments_lexer": "ipython3",
   "version": "3.10.9"
  }
 },
 "nbformat": 4,
 "nbformat_minor": 2
}
