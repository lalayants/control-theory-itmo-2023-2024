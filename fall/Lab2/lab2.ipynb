{
 "cells": [
  {
   "cell_type": "markdown",
   "metadata": {},
   "source": [
    "Кирилл Лалаянц, R33352"
   ]
  },
  {
   "cell_type": "markdown",
   "metadata": {},
   "source": [
    "# Лабораторная работа No2\n",
    "## Переходные процессы, свободное движение, устойчивость"
   ]
  },
  {
   "cell_type": "markdown",
   "metadata": {},
   "source": [
    "Импорт необходимых для работы библиотек. "
   ]
  },
  {
   "cell_type": "code",
   "execution_count": null,
   "metadata": {},
   "outputs": [],
   "source": [
    "import matplotlib.pyplot as plt\n",
    "import numpy as np\n",
    "import control \n",
    "import sympy\n",
    "import os\n",
    "import math\n",
    "\n",
    "SAVE_PATH = 'tex-report/figs/'\n",
    "os.makedirs(SAVE_PATH, exist_ok=True)\n",
    "\n",
    "sympy.init_printing()"
   ]
  },
  {
   "cell_type": "markdown",
   "metadata": {},
   "source": [
    "## Задание 1. Свободное движение."
   ]
  },
  {
   "cell_type": "code",
   "execution_count": null,
   "metadata": {},
   "outputs": [],
   "source": [
    "p = sympy.Symbol(\"p\")\n",
    "\n",
    "\n",
    "def task1_output(m1, m2, initial_value, ts, plot_name, save_name):\n",
    "    poly = sympy.simplify((p - m1) * (p - m2))\n",
    "    coeffs = sympy.Poly(poly, p).all_coeffs()\n",
    "    print(f'Polynom: {poly} = {poly.expand()}; coeffs = {coeffs}')\n",
    "    \n",
    "    ss = control.tf2ss(control.tf(1, np.array(coeffs, dtype=np.float64)))\n",
    "    ss_reachable = control.canonical_form(ss, form=\"reachable\")[0]\n",
    "    print(f\"SS: {ss_reachable}\")\n",
    "\n",
    "    tf2_y_0_0 = control.forced_response(ss_reachable, U=0, X0=[0, 0], T=ts)\n",
    "    tf2_y_1_1 = control.forced_response(ss_reachable, U=0, X0=initial_value, T=ts)\n",
    "    plot_task1(tf2_y_0_0, tf2_y_1_1, initial_value, ts, plot_name, save_name)\n",
    "    \n",
    "\n",
    "def plot_task1(tf2_y_0_0, tf2_y_1_1, initial_value, ts, plot_name, save_name):\n",
    "    f_size = 40\n",
    "    fig, axs = plt.subplots(1, 2, figsize=(25, 17))\n",
    "    fig.suptitle(f\"Задание 1. Свободное движение. \\n {plot_name}\", fontsize=f_size, y=1)\n",
    "\n",
    "    axs[0].plot(ts, tf2_y_0_0.outputs, 'b', linewidth=8, label = 'y(0) = 0')\n",
    "    axs[0].plot(ts, tf2_y_1_1.outputs, 'r--', linewidth=8, label = f'y(0) = {initial_value[1]}')\n",
    "    axs[0].set_title(f\"y = y(t)\", fontsize=f_size)\n",
    "    axs[0].set_xlabel(f\"t, [c]\", fontsize=f_size)\n",
    "    axs[0].set_ylabel(f\"y, [м]\", fontsize=f_size)\n",
    "    axs[0].grid(True)\n",
    "    axs[0].legend(fontsize=f_size, title_fontsize=f_size, title=\"Начальные условия\")\n",
    "    \n",
    "    axs[1].plot(ts, tf2_y_0_0.states[0], \"b\", linewidth=8, label = '$\\dot{y}(0) = 0$')\n",
    "    axs[1].plot(ts, tf2_y_1_1.states[0], \"r--\", linewidth=8, label = '$\\dot{y}(0) = $' + f'{initial_value[0]}')\n",
    "    axs[1].set_title(r\"$\\dot{y} = \\dot{y}(t)$\", fontsize=f_size)\n",
    "    axs[1].set_xlabel(f\"t, [c]\", fontsize=f_size)\n",
    "    axs[1].set_ylabel(r\"$\\dot{y}$, [м / с]\", fontsize=f_size)\n",
    "    axs[1].grid(True)\n",
    "    axs[1].legend(fontsize=f_size, title_fontsize=f_size, title=\"Начальные условия\")\n",
    "    \n",
    "    plt.savefig(f'{SAVE_PATH}/{save_name}')\n",
    "    plt.show()\n",
    "    "
   ]
  },
  {
   "cell_type": "markdown",
   "metadata": {},
   "source": [
    "2. устойчивой и неустойчивой апериодическим модам;"
   ]
  },
  {
   "cell_type": "code",
   "execution_count": null,
   "metadata": {},
   "outputs": [],
   "source": [
    "dt = 0.001 \n",
    "max_t = 1 \n",
    "ts = np.linspace(0, max_t, int(max_t / dt))\n",
    "\n",
    "m20, m21 = -1, 1\n",
    "initial_value = [0.15, 0.1]\n",
    "task1_output(m20, m21, initial_value, ts, plot_name = f'Устойчивая и неустойчивая апериодические моды {m20, m21}.', save_name = 'task1_2.jpg')"
   ]
  },
  {
   "cell_type": "markdown",
   "metadata": {},
   "source": [
    "4. нейтральной и неустойчивой апериодической модам;"
   ]
  },
  {
   "cell_type": "code",
   "execution_count": null,
   "metadata": {},
   "outputs": [],
   "source": [
    "dt = 0.001 \n",
    "max_t = 10\n",
    "ts = np.linspace(0, max_t, int(max_t / dt))\n",
    "m40, m41 = 0, 1\n",
    "\n",
    "initial_value = [0.15, 0.1]\n",
    "task1_output(m40, m41, initial_value, ts, plot_name = f'Нейтральная и неустойчивая апериодические моды {m40, m41}.', save_name = 'task1_4.jpg')"
   ]
  },
  {
   "cell_type": "markdown",
   "metadata": {},
   "source": [
    "6. паре консервативных мод;"
   ]
  },
  {
   "cell_type": "code",
   "execution_count": null,
   "metadata": {},
   "outputs": [],
   "source": [
    "dt = 0.001 \n",
    "max_t = 10\n",
    "ts = np.linspace(0, max_t, int(max_t / dt))\n",
    "\n",
    "m60, m61 = - sympy.I, sympy.I\n",
    "initial_value = [0.15, 0.1]\n",
    "task1_output(m60, m61, initial_value, ts, plot_name = f'Пара консервативных мод {m60, m61}.', save_name = 'task1_6.jpg')"
   ]
  },
  {
   "cell_type": "markdown",
   "metadata": {},
   "source": [
    "## Задание 2. Область устойчивости."
   ]
  },
  {
   "cell_type": "code",
   "execution_count": null,
   "metadata": {},
   "outputs": [],
   "source": [
    "K, T1, T2 = sympy.symbols(\"K,T1,T2\")\n",
    "TF1s = 1/(p*T1 + 1)\n",
    "TF2s = 1/(p*T2 + 1)\n",
    "TF3s = 1 / p\n",
    "T_mains = TF1s * TF2s * TF3s * K \n",
    "T_feedbacks = 1\n",
    "\n",
    "Ts = T_mains / (1 + T_mains * T_feedbacks)\n",
    "Ts = sympy.simplify(Ts).expand()\n",
    "Ts_num, Ts_denum = sympy.fraction(Ts)\n",
    "Ts_denum_coeffs = (sympy.Poly(Ts_denum/ (T1 * T2), p)).all_coeffs()\n",
    "equations = [Ts_denum_coeffs[1] > 0, \\\n",
    "    Ts_denum_coeffs[2] > 0, \\\n",
    "    Ts_denum_coeffs[3] > 0, \\\n",
    "    Ts_denum_coeffs[1] * Ts_denum_coeffs[2] > Ts_denum_coeffs[3]]\n",
    "equations"
   ]
  },
  {
   "cell_type": "code",
   "execution_count": null,
   "metadata": {},
   "outputs": [],
   "source": [
    "sympy.collect(Ts, p)"
   ]
  },
  {
   "cell_type": "markdown",
   "metadata": {},
   "source": [
    "T2 = -1 \\\n",
    "solve -(-1+x)/x > 0 and 1/-x > 0 and y/-x > 0 and (-1 + x) / -x > y"
   ]
  },
  {
   "cell_type": "code",
   "execution_count": null,
   "metadata": {},
   "outputs": [],
   "source": [
    "# Решений нет!"
   ]
  },
  {
   "cell_type": "markdown",
   "metadata": {},
   "source": [
    "T1 = 1 \\\n",
    "solve (1+x)/x > 0 and 1/x > 0 and y/x > 0 and (1 + x) / x > y"
   ]
  },
  {
   "cell_type": "code",
   "execution_count": null,
   "metadata": {},
   "outputs": [],
   "source": [
    "T2 = np.linspace(0, 5)\n",
    "K = (T2 + 1) / T2\n",
    "\n",
    "plt.figure(figsize=(12.5, 7.5))\n",
    "plt.plot(T2, K, 'r--', linewidth=8, label = 'Граница устойчивости')\n",
    "plt.fill_between(T2, K, 0, label = 'Зона устойчивости')\n",
    "plt.title(\"Задание 2. Зависимость устойчивости от $K$ и $T2$\", fontsize=20)\n",
    "plt.xlabel(\"$T_2$\", fontsize=20)\n",
    "plt.ylabel(\"$K$\", fontsize=20)\n",
    "plt.grid(True)\n",
    "plt.legend(fontsize=20)\n",
    "plt.savefig(f'{SAVE_PATH}/task2_T2_K.jpg')"
   ]
  },
  {
   "cell_type": "code",
   "execution_count": null,
   "metadata": {},
   "outputs": [],
   "source": [
    "def task2_get_TF(T1, T2, K):\n",
    "    TF1 = control.tf([1], [T1, 1])\n",
    "    TF2 = control.tf([1], [T2, 1])\n",
    "    TF3 = control.tf([1], [1, 0])\n",
    "\n",
    "    TF_main = K * TF1 * TF2 * TF3\n",
    "    TF_feedback = control.tf([1], [1])\n",
    "\n",
    "    ss = control.tf2ss(control.feedback(TF_main, TF_feedback))\n",
    "    ss_reachable = control.canonical_form(ss, form=\"reachable\")[0]\n",
    "    \n",
    "    return ss_reachable\n",
    "\n",
    "def task2_show_TF(T1, T2, K, save_name, plot_name, ts, U = 1, initial_value=[0, 0, 0]):\n",
    "    tf_y = control.forced_response(task2_get_TF(T1, T2, K), U=U, X0=[1, 1, 1], T=ts).outputs\n",
    "    plt.figure(figsize=(12.5, 7.5))\n",
    "    plt.plot(ts, tf_y, linewidth=8, label = 'Результат моделирования')\n",
    "    plt.title(plot_name, fontsize=20)\n",
    "    plt.xlabel(\"$t, [c]$\", fontsize=20)\n",
    "    plt.ylabel(\"y\", fontsize=20)\n",
    "    plt.grid(True)\n",
    "    plt.legend(fontsize=20)\n",
    "    plt.savefig(f'{SAVE_PATH}/{save_name}')\n",
    "    plt.show()"
   ]
  },
  {
   "cell_type": "code",
   "execution_count": null,
   "metadata": {},
   "outputs": [],
   "source": [
    "dt = 0.001 \n",
    "max_t = 100\n",
    "ts = np.linspace(0, max_t, int(max_t / dt))\n",
    "T1, T2 = 1, 4\n",
    "K = 1.25\n",
    "\n",
    "task2_show_TF(T1, T2, K, \"task2_conservative.jpg\", f\"Задание 2. Граница устойчивости. \\n T1 = {T1}; T2 = {T2}; K = {K};\", ts, U = 1, initial_value=[0, 0, 0])"
   ]
  },
  {
   "cell_type": "code",
   "execution_count": null,
   "metadata": {},
   "outputs": [],
   "source": [
    "dt = 0.001 \n",
    "max_t = 30\n",
    "ts = np.linspace(0, max_t, int(max_t / dt))\n",
    "T1, T2 = 1, 4\n",
    "K = 4\n",
    "\n",
    "task2_show_TF(T1, T2, K, \"task2_not_stable.jpg\", f\"Задание 2. Неустойчивая система. \\n T1 = {T1}; T2 = {T2}; K = {K};\", ts, U = 1, initial_value=[0, 0, 0])"
   ]
  },
  {
   "cell_type": "code",
   "execution_count": null,
   "metadata": {},
   "outputs": [],
   "source": [
    "dt = 0.001 \n",
    "max_t = 100\n",
    "ts = np.linspace(0, max_t, int(max_t / dt))\n",
    "T1, T2 = 1, 4\n",
    "K = 0.1\n",
    "\n",
    "task2_show_TF(T1, T2, K, \"task2_stable.jpg\", f\"Задание 2. Устойчивая система. \\n T1 = {T1}; T2 = {T2}; K = {K};\", ts, U = 1, initial_value=[0, 0, 0])"
   ]
  },
  {
   "cell_type": "markdown",
   "metadata": {},
   "source": [
    "## Задание 3. Автономный генератор."
   ]
  },
  {
   "cell_type": "code",
   "execution_count": null,
   "metadata": {},
   "outputs": [],
   "source": [
    "task3_f = lambda x: np.cos(5*x) + np.exp(x) + np.exp(-5 * x)"
   ]
  },
  {
   "cell_type": "code",
   "execution_count": null,
   "metadata": {},
   "outputs": [],
   "source": [
    "task3_A = np.array([[1, 0, 0, 0], [0, -5, 0, 0], [0, 0, 0, 5], [0, 0, -5, 0]])\n",
    "t = sympy.symbols(\"t\")\n",
    "power = 1\n",
    "task3_dummy = np.zeros_like(task3_A) * t\n",
    "for power in range(5):\n",
    "    tmp = np.linalg.matrix_power(task3_A, power) * t**power / math.factorial(power)\n",
    "    task3_dummy += tmp\n",
    "    # print(sympy.printing.latex(np.linalg.matrix_power(task3_A, power) * t**power / math.factorial(power)))\n",
    "    print(tmp)\n",
    "task3_dummy  "
   ]
  },
  {
   "cell_type": "code",
   "execution_count": null,
   "metadata": {},
   "outputs": [],
   "source": [
    "print(sympy.printing.latex(np.linalg.matrix_power(task3_A, power) * t**power / math.factorial(power)))\n"
   ]
  },
  {
   "cell_type": "code",
   "execution_count": null,
   "metadata": {},
   "outputs": [],
   "source": [
    "task3_system_dummy= np.array([[sympy.exp(t), 0, 0, 0], \\\n",
    "    [0, sympy.exp(-5*t), 0, 0], \\\n",
    "    [0, 0, sympy.cos(5*t), sympy.sin(5*t)], \\\n",
    "    [0, 0, -sympy.sin(5*t), sympy.cos(5*t)]])\n",
    "task3_system_dummy"
   ]
  },
  {
   "cell_type": "code",
   "execution_count": null,
   "metadata": {},
   "outputs": [],
   "source": [
    "a1, a2, a3, a4 = sympy.symbols(\"a1 a2 a3 a4\")\n",
    "task3_initial_dummy = np.array([[a1], [a2], [a3], [a4]])\n",
    "task3_system_dummy @ task3_initial_dummy"
   ]
  },
  {
   "cell_type": "code",
   "execution_count": null,
   "metadata": {},
   "outputs": [],
   "source": [
    "c1, c2, c3, c4 = sympy.symbols(\"c1 c2 c3 c4\")\n",
    "task3_C_dummy = np.array([c1, c2, c3, c4])\n",
    "task3_final = (task3_C_dummy @ task3_system_dummy @ task3_initial_dummy)[0].expand()\n",
    "type(task3_final)\n",
    "sympy.collect(task3_final, [sympy.sin(5 * t), sympy.cos(5 * t)])"
   ]
  },
  {
   "cell_type": "code",
   "execution_count": null,
   "metadata": {},
   "outputs": [],
   "source": [
    "task3_analitical = task3_final.subs({a1: 1, a2: 1, a3: 1, a4: 1, c1: 1, c2: 1, c3: 0.5, c4: 0.5})\n",
    "task3_analitical"
   ]
  },
  {
   "cell_type": "code",
   "execution_count": null,
   "metadata": {},
   "outputs": [],
   "source": [
    "task3_initial = np.ones((4, 1))\n",
    "task3_C = np.array([1, 1, 0.5, 0.5])\n",
    "task3_A, task3_initial, task3_C"
   ]
  },
  {
   "cell_type": "code",
   "execution_count": null,
   "metadata": {},
   "outputs": [],
   "source": [
    "task3_ss = control.ss(task3_A, np.zeros((4, 1)), task3_C, 0)"
   ]
  },
  {
   "cell_type": "code",
   "execution_count": null,
   "metadata": {},
   "outputs": [],
   "source": [
    "dt = 0.001\n",
    "max_t = 4\n",
    "ts = np.linspace(0, max_t, int(max_t / dt))\n",
    "\n",
    "ss_response = control.forced_response(task3_ss, ts, X0=task3_initial)\n",
    "task3_f_y = task3_f(ts)\n",
    "\n",
    "\n",
    "plt.figure(figsize=(12.5, 7.5))\n",
    "plt.plot(ts, task3_f_y, linewidth=8, label='Исходная функция')\n",
    "plt.plot(ts, ss_response.outputs, 'r--', linewidth=4, label=f'SS генератор (Ошибка = {np.sum((task3_f_y- ss_response.outputs)**2) : .1E})')\n",
    "\n",
    "plt.title('Задание 3. Автономный генератор.', fontsize=20)\n",
    "plt.xlabel(\"$t, [c]$\", fontsize=20)\n",
    "plt.ylabel(\"y\", fontsize=20)\n",
    "plt.grid(True)\n",
    "plt.legend(fontsize=20)\n",
    "plt.savefig(f'{SAVE_PATH}/task3.jpg')\n",
    "plt.show()"
   ]
  },
  {
   "cell_type": "markdown",
   "metadata": {},
   "source": [
    "## Задание 4. (Необязательное) Изучение канонической управляемой формы: фазовые портреты."
   ]
  },
  {
   "cell_type": "code",
   "execution_count": null,
   "metadata": {},
   "outputs": [],
   "source": [
    "def task4_output(m1, m2, initial_values, ts):\n",
    "    plot_name = f'Моды: {m1, m2}'\n",
    "    save_name = f'task4_{m1}_{m2}.jpg'\n",
    "    poly = sympy.simplify((p - m1) * (p - m2))\n",
    "    coeffs = sympy.Poly(poly, p).all_coeffs()\n",
    "    tf_y = control.tf(1, np.array(coeffs, dtype=np.float64))\n",
    "    tf_dy = tf_y * control.tf([1, 0], [1]) \n",
    "    ss = control.tf2ss(tf_dy)\n",
    "    ss_reachable = control.canonical_form(ss, form=\"reachable\")[0]\n",
    "    \n",
    "    ss = control.tf2ss(tf_y)\n",
    "    ss_reachable = control.canonical_form(ss, form=\"reachable\")[0]\n",
    "\n",
    "    responses = []\n",
    "    for initial_value in initial_values:\n",
    "        tf_y_response = control.forced_response(tf_y, U=0, X0=initial_value, T=ts)\n",
    "        tf_dy_response = control.forced_response(tf_dy, U=0, X0=initial_value, T=ts)\n",
    "        ss_response = control.forced_response(ss_reachable, U=0, X0=initial_value, T=ts)\n",
    "        responses.append([initial_value, tf_y_response, tf_dy_response, ss_response])\n",
    "    \n",
    "    task4_plot(responses, plot_name, save_name)\n",
    "\n",
    "def task4_plot(responses, plot_name, save_name):\n",
    "    f_size = 40\n",
    "    fig, axs = plt.subplots(1, 3, figsize=(35, 15))\n",
    "    fig.suptitle(f'Задание 4.(Необязательное) Изучение канонической управляемой формы: фазовые портреты. \\n {plot_name}', fontsize=f_size, y=1)\n",
    "    \n",
    "    for indx, (initial_value, tf_y_response, tf_dy_response, ss_response) in enumerate(responses):\n",
    "        axs[indx].plot(ss_response.states[1], ss_response.states[0], 'b', linewidth=8, label = '$x_2 = x_2(x_1)$')\n",
    "        axs[indx].plot(-tf_y_response.outputs, -tf_dy_response.outputs, 'r--', linewidth=6, label = '$\\dot{y} = \\dot{y}(y)$')\n",
    "        axs[indx].plot(initial_value[1], initial_value[0], 'go', markersize=f_size, label = 'Начальные условия')\n",
    "        axs[indx].set_title(f\"Начальные условия: {initial_value[::-1]}\", fontsize=f_size)\n",
    "        axs[indx].set_xlabel(\"y or $x_1$\", fontsize=f_size)\n",
    "        axs[indx].set_ylabel(\"$\\dot{y}$ or $x_2$\", fontsize=f_size)\n",
    "        axs[indx].grid(True)\n",
    "        axs[indx].legend(fontsize=f_size//20* 15)\n",
    "    \n",
    "    plt.savefig(f'{SAVE_PATH}/{save_name}')\n",
    "    plt.show()"
   ]
  },
  {
   "cell_type": "code",
   "execution_count": null,
   "metadata": {},
   "outputs": [],
   "source": [
    "dt = 0.001 \n",
    "max_t = 6\n",
    "ts = np.linspace(0, max_t, int(max_t / dt))\n",
    "task4_initial_1 = [[-10, 1], [-10, 5], [10, 10]]\n",
    "task4_output(m60, m61, task4_initial_1, ts)"
   ]
  },
  {
   "cell_type": "code",
   "execution_count": null,
   "metadata": {},
   "outputs": [],
   "source": []
  }
 ],
 "metadata": {
  "kernelspec": {
   "display_name": "venv10",
   "language": "python",
   "name": "python3"
  },
  "language_info": {
   "codemirror_mode": {
    "name": "ipython",
    "version": 3
   },
   "file_extension": ".py",
   "mimetype": "text/x-python",
   "name": "python",
   "nbconvert_exporter": "python",
   "pygments_lexer": "ipython3",
   "version": "3.10.9"
  }
 },
 "nbformat": 4,
 "nbformat_minor": 2
}
