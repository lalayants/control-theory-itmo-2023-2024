{
 "cells": [
  {
   "cell_type": "markdown",
   "metadata": {},
   "source": [
    "Кирилл Лалаянц, R33352"
   ]
  },
  {
   "cell_type": "markdown",
   "metadata": {},
   "source": [
    "# Лабораторная работа No3\n",
    "## Вынужденное движение"
   ]
  },
  {
   "cell_type": "markdown",
   "metadata": {},
   "source": [
    "Импорт необходимых для работы библиотек. "
   ]
  },
  {
   "cell_type": "code",
   "execution_count": null,
   "metadata": {},
   "outputs": [],
   "source": [
    "import matplotlib.pyplot as plt\n",
    "import numpy as np\n",
    "import control \n",
    "import sympy\n",
    "import os\n",
    "import math\n",
    "\n",
    "SAVE_PATH = 'tex-report/figs/'\n",
    "os.makedirs(SAVE_PATH, exist_ok=True)\n",
    "\n",
    "sympy.init_printing()\n",
    "p = sympy.Symbol(\"p\")\n",
    "s = sympy.Symbol(\"s\")\n",
    "t = sympy.Symbol(\"t\")\n",
    "\n",
    "def get_t(end_t = 10, dt=0.001, start_t = 0):\n",
    "    return np.linspace(start_t, end_t, int(end_t / dt))"
   ]
  },
  {
   "cell_type": "markdown",
   "metadata": {},
   "source": [
    "## Задание 1. Свободное движение."
   ]
  },
  {
   "cell_type": "code",
   "execution_count": null,
   "metadata": {},
   "outputs": [],
   "source": [
    "def task1_output(m1, m2, initial_values, us, ts, plot_name, save_name):\n",
    "    poly = sympy.simplify((p - m1) * (p - m2))\n",
    "    coeffs = sympy.Poly(poly, p).all_coeffs()\n",
    "    ss = control.tf2ss(control.tf(1, np.array(coeffs, dtype=np.float64)))\n",
    "    ss_reachable = control.canonical_form(ss, form=\"reachable\")[0]\n",
    "    responses = {}\n",
    "    for key_u, u in us.items():\n",
    "        responses[key_u] = []\n",
    "        for initial_value in initial_values:\n",
    "            response = control.forced_response(ss_reachable, U=u(ts), X0=initial_value, T=ts)\n",
    "            responses[key_u].append((initial_value, response))\n",
    "    \n",
    "    plot_task1(responses, ts, plot_name, save_name)\n",
    "    \n",
    "\n",
    "def plot_task1(responses, ts, plot_name, save_name):\n",
    "    f_size = 40\n",
    "    fig, axs = plt.subplots(1, 3, figsize=(35, 15))\n",
    "    fig.suptitle(f\"Задание 1. Вынужденное движение. \\n {plot_name}\", fontsize=f_size, y=1)\n",
    "\n",
    "    for indx, u_key in enumerate(responses):\n",
    "        u_responses = responses[u_key]\n",
    "        for initial_value, response in u_responses:\n",
    "            axs[indx].plot(ts, response.outputs, linewidth=8, label =f'$y(0) = {initial_value[1]}$; ' + \"$\\dot{y}(0) = $\" + f\"{initial_value[0]}\")\n",
    "        axs[indx].set_title(u_key, fontsize=f_size)\n",
    "        axs[indx].set_xlabel(f\"t, [c]\", fontsize=f_size)\n",
    "        axs[indx].set_ylabel(f\"y, [м]\", fontsize=f_size)\n",
    "        axs[indx].grid(True)\n",
    "        axs[indx].legend(fontsize=f_size-12, title_fontsize=f_size, title=\"Начальные условия\")\n",
    "        axs[indx].tick_params(axis='both', labelsize=20)\n",
    "            \n",
    "    plt.savefig(f'{SAVE_PATH}/{save_name}')\n",
    "    plt.show()\n",
    "    "
   ]
  },
  {
   "cell_type": "code",
   "execution_count": null,
   "metadata": {},
   "outputs": [],
   "source": [
    "us = {\n",
    "    'u(t) = 1.5': lambda t: 1.5 + 0 * t,\n",
    "    'u(t) = 0.6t': lambda t: 0.6 * t,\n",
    "    'u(t) = sin(6t)': lambda t: np.sin(6 * t),\n",
    "}"
   ]
  },
  {
   "cell_type": "markdown",
   "metadata": {},
   "source": [
    "1. две устойчивые апериодические модам;"
   ]
  },
  {
   "cell_type": "code",
   "execution_count": null,
   "metadata": {},
   "outputs": [],
   "source": [
    "m10, m11 = -1, -2\n",
    "initial_values = [[0, -1], [0, 0], [0, 1]]\n",
    "task1_output(m10, m11, initial_values, us, get_t(10), plot_name = f'Две устойчивые апериодические моды: {m10, m11}.', save_name = 'task1_1.jpg')"
   ]
  },
  {
   "cell_type": "markdown",
   "metadata": {},
   "source": [
    "3. нейтральной и устойчивой апериодическим модам;"
   ]
  },
  {
   "cell_type": "code",
   "execution_count": null,
   "metadata": {},
   "outputs": [],
   "source": [
    "m30, m31 = 0, -1\n",
    "initial_values = [[0, -1], [0, 0], [0, 1]]\n",
    "task1_output(m30, m31, initial_values, us, get_t(10), plot_name = f'Нейтральная и устойчивая моды: {m30, m31}.', save_name = 'task1_3.jpg')"
   ]
  },
  {
   "cell_type": "markdown",
   "metadata": {},
   "source": [
    "6. паре неустойчивых колебательных мод."
   ]
  },
  {
   "cell_type": "code",
   "execution_count": null,
   "metadata": {},
   "outputs": [],
   "source": [
    "m80, m81 = 1 - sympy.I, 1 + sympy.I\n",
    "initial_values = [[0, -1], [0, 0], [0, 1]]\n",
    "task1_output(m80, m81, initial_values, us, get_t(10), plot_name = f'Пара неустойчивых колебательных мод: {m80, m81}.', save_name = 'task1_8.jpg')"
   ]
  },
  {
   "cell_type": "markdown",
   "metadata": {},
   "source": [
    "## Задание 2. Область устойчивости."
   ]
  },
  {
   "cell_type": "code",
   "execution_count": null,
   "metadata": {},
   "outputs": [],
   "source": [
    "y = sympy.Function(\"y\")\n",
    "t = sympy.Symbol(\"t\")\n",
    "\n",
    "def get_ss_reachable(modes):\n",
    "    poly = 1\n",
    "    for mode in modes:\n",
    "        poly = sympy.simplify(poly * (p - mode))\n",
    "    coeffs = sympy.Poly(poly, p).all_coeffs()\n",
    "    \n",
    "    ss = control.tf2ss(control.tf(1, np.array(coeffs, dtype=np.float64)))\n",
    "    ss_reachable = control.canonical_form(ss, form=\"reachable\")[0]\n",
    "    return ss_reachable\n",
    "\n",
    "\n",
    "def get_state_limit(ss_reachable, T0, initial_values_T0):\n",
    "    params = np.concatenate((ss_reachable.A[0, :], ss_reachable.B[0, :]))\n",
    "    a2, a1, a0, b0 = map(float, -params)\n",
    "    b0 = -b0\n",
    "    \n",
    "    ics={y(T0): initial_values_T0[0], y(t).diff(t, 1).subs(t, T0): initial_values_T0[1], y(t).diff(t, 2).subs(t, T0): initial_values_T0[2]}\n",
    "    ode_sympy = sympy.dsolve(y(t).diff(t, 3) + a2 * y(t).diff(t, 2) + a1 * y(t).diff(t, 1) + a0*y(t) - 1, X0=0, ics=ics)\n",
    "    time_of_limit = 10**10\n",
    "    state_limit = ode_sympy.subs(t, time_of_limit).rhs\n",
    "    while abs(1 - state_limit/ode_sympy.subs(t, time_of_limit * 10).rhs) > 0.001:\n",
    "        time_of_limit *= 10\n",
    "        state_limit = ode_sympy.subs(t, time_of_limit).rhs\n",
    "    return state_limit\n",
    "\n",
    "def model_until_5percent_band(ss_reachable, initial_values, state_limit):\n",
    "    percent5_interval = state_limit * 0.05\n",
    "    t_max = 10\n",
    "    while True:\n",
    "        ts = get_t(t_max)\n",
    "        response = control.forced_response(ss_reachable, U=1, X0=initial_values[::-1], T=ts)\n",
    "\n",
    "        t_5_percent = 0\n",
    "        for i in range(len(ts)):\n",
    "            if abs(response.outputs[i] - state_limit) > percent5_interval:\n",
    "                t_5_percent = ts[i]\n",
    "                t_5_percent_i = i\n",
    "                y_5_percent = response.outputs[i]\n",
    "        if t_5_percent <= t_max*0.8:\n",
    "            ts = get_t(t_max)\n",
    "\n",
    "            response = control.forced_response(ss_reachable, U=1, X0=initial_values[::-1], T=ts)\n",
    "            \n",
    "            return (ts, response.outputs, t_5_percent, y_5_percent, t_5_percent_i * 2)\n",
    "        t_max *= 1.5\n",
    "    \n",
    "def get_overshooting(response_outputs, ts, state_limit):\n",
    "    overshooting_values = response_outputs - state_limit\n",
    "    if overshooting_values[0] > 0:\n",
    "        overshooting_values *= -1\n",
    "    overshooting_counter = 0\n",
    "    while overshooting_values[overshooting_counter] < overshooting_values[overshooting_counter + 1]:\n",
    "        overshooting_counter += 1\n",
    "        if overshooting_counter >= len(overshooting_values) - 1:\n",
    "            break\n",
    "    \n",
    "    absolute_overshooting = overshooting_values[overshooting_counter]\n",
    "    relative_overshooting = overshooting_values[overshooting_counter] / state_limit\n",
    "    y_overshooting = response_outputs[overshooting_counter]\n",
    "    t_overshooting = ts[overshooting_counter]\n",
    "    return (t_overshooting, y_overshooting, relative_overshooting, absolute_overshooting)\n",
    "    \n",
    "    \n",
    "\n",
    "def task2_analyse(modes, T0 = 0, initial_values_T0 = [0, 0, 0]):\n",
    "    results = {}\n",
    "    for title, mode in modes.items():\n",
    "        ss_reachable = get_ss_reachable(mode)\n",
    "        ss_limit = get_state_limit(ss_reachable, T0, initial_values_T0)\n",
    "        ts, ss_y, t_5p, y_5p, _ = model_until_5percent_band(ss_reachable, initial_values_T0, ss_limit)\n",
    "        t_os, y_os, os_rel, _ = get_overshooting(ss_y, ts, ss_limit)\n",
    "        results[title] = [mode, ts, ss_y, ss_limit, t_5p, y_5p, t_os, y_os, os_rel]\n",
    "    return results\n",
    "\n",
    "    \n",
    "    \n",
    "def plot_task2(results, plot_name, save_name=None, f_size = 50, lf_size = 40):\n",
    "    fig, axs = plt.subplots(2, 3, figsize=(40, 20))\n",
    "    fig.suptitle(f'Задание 2. Качество переходных процессов. \\n {plot_name}', fontsize=f_size, y=1)\n",
    "    for i, result in results.items():\n",
    "        mode, ts, ss_y, ss_limit, t_5p, y_5p, t_os, y_os, os_rel = result\n",
    "        if os_rel < 0.05:\n",
    "            y_os = float(ss_limit)\n",
    "        t_max = ts[-1]\n",
    "        axs[0][i].set_title(\"$T_{5\\%}$\" + f\"$ = {t_5p: .1e}; \\Delta\\sigma = {os_rel: .1e}$\", fontsize=f_size - 10)\n",
    "        axs[0][i].plot(ts, ss_y, 'b--', linewidth=8, label = 'TF')\n",
    "        axs[0][i].set_xticks([0, t_max, t_5p], [0, f'{t_max : 0.2f}', f'{t_5p : 0.2f}'], fontsize=lf_size)\n",
    "        axs[0][i].set_yticks([0, y_os, float(ss_limit)],[0, f'{y_os : 0.2f}', f'{ss_limit : 0.2f}'], fontsize=lf_size)\n",
    "        axs[0][i].legend(fontsize=lf_size)\n",
    "        axs[0][i].grid()\n",
    "        \n",
    "        re_modes = list(map(float, map(sympy.re, mode)))\n",
    "        im_modes = list(map(float, map(sympy.im, mode)))\n",
    "        axs[1][i].scatter(re_modes, im_modes, linewidths=10)\n",
    "        axs[1][i].set_yticks(im_modes, im_modes, fontsize=lf_size)\n",
    "        axs[1][i].set_xticks(re_modes, re_modes, fontsize=lf_size)\n",
    "        axs[1][i].set_xlabel(\"Re\", fontsize=f_size)\n",
    "        axs[1][i].set_ylabel(\"Im\", fontsize=f_size)\n",
    "        axs[1][i].grid()\n",
    "    \n",
    "    if save_name:\n",
    "        plt.savefig(f'{SAVE_PATH}/{save_name}')\n",
    "        "
   ]
  },
  {
   "cell_type": "code",
   "execution_count": null,
   "metadata": {},
   "outputs": [],
   "source": [
    "modes_1 = {\n",
    "    0: [-1, -0.5 + 1 * sympy.I, - 0.5 - 1 * sympy.I],\n",
    "    1: [-1, -1 + 1 * sympy.I, - 1 - 1 * sympy.I],\n",
    "    2: [-1, -10 + 1 * sympy.I, - 10 - 1 * sympy.I],\n",
    "}\n",
    "\n",
    "results_1 = task2_analyse(modes_1)\n",
    "plot_task2(results_1, 'Зависимость от величины вещественной части комплексных корней.', save_name='task2_diff_I.jpg')"
   ]
  },
  {
   "cell_type": "code",
   "execution_count": null,
   "metadata": {},
   "outputs": [],
   "source": [
    "modes_2 = {\n",
    "    0: [-1, -2 + 1 * sympy.I, -2 - 1 * sympy.I],\n",
    "    1: [-1, -2 + 10 * sympy.I, -2 - 10 * sympy.I],\n",
    "    2: [-1, -2 + 30 * sympy.I, -2 - 30 * sympy.I],\n",
    "}\n",
    "\n",
    "results_2 = task2_analyse(modes_2)\n",
    "plot_task2(results_2, 'Зависимость от величины мнимой части комплексных корней.', save_name='task2_diff_real_with_I.jpg')"
   ]
  },
  {
   "cell_type": "code",
   "execution_count": null,
   "metadata": {},
   "outputs": [],
   "source": [
    "modes_3 = {\n",
    "    0: [-0.01, -0.02, - 0.03],\n",
    "    1: [-1, -2, -3],\n",
    "    2: [-10, -20, -30],\n",
    "}\n",
    "\n",
    "results_3 = task2_analyse(modes_3)\n",
    "plot_task2(results_3, 'Зависимость от величины реальной части', save_name='task2_diff_real_no_I.jpg')"
   ]
  },
  {
   "cell_type": "markdown",
   "metadata": {},
   "source": [
    "## Задание 3. (Необязательное) Свертка, как произведение образов Лапласа."
   ]
  },
  {
   "cell_type": "code",
   "execution_count": null,
   "metadata": {},
   "outputs": [],
   "source": [
    "dt = 0.001\n",
    "ts = get_t(10, dt=0.001)\n",
    "\n",
    "u_f = lambda t: 4 * np.cos(2*t) +  0.5 * t\n",
    "u_sympy = 4 * sympy.cos(2*t) + 0.5 * t\n",
    "u_lambda = sympy.lambdify(t, u_sympy, 'numpy')\n",
    "U_sympy = sympy.laplace_transform(u_sympy, t, s)[0]\n",
    "\n",
    "W_s_denum_coeffs = sympy.Poly((s+2)**4, s).all_coeffs()\n",
    "W_s_denum_coeffs = list(map(float, W_s_denum_coeffs))\n",
    "W_sympy = 6 / sympy.Poly((s+2)**4, s)\n",
    "W_control = control.tf([6], W_s_denum_coeffs)"
   ]
  },
  {
   "cell_type": "markdown",
   "metadata": {},
   "source": [
    "1 Приближенный расчет (на основании определения как интеграла) выхода системы\n",
    "как свертки."
   ]
  },
  {
   "cell_type": "code",
   "execution_count": null,
   "metadata": {},
   "outputs": [],
   "source": [
    "y_ir_sympy = sympy.inverse_laplace_transform(W_sympy, s, t)\n",
    "y_ir_lambda = sympy.lambdify(t, y_ir_sympy, 'numpy')\n",
    "y_full_convolution = np.convolve(y_ir_lambda(ts), u_f(ts)) * dt"
   ]
  },
  {
   "cell_type": "markdown",
   "metadata": {},
   "source": [
    "2 Моделирование системы «в лоб» с использованием входного воздействия u(t) и\n",
    "передаточной функции W (s)"
   ]
  },
  {
   "cell_type": "code",
   "execution_count": null,
   "metadata": {},
   "outputs": [],
   "source": [
    "y_2 = control.forced_response(W_control, T=ts, U=u_lambda(ts)).outputs"
   ]
  },
  {
   "cell_type": "markdown",
   "metadata": {},
   "source": [
    "3 Моделирование системы как произведения двух передаточных функций U (s) и\n",
    "W (s) с δ(t) в качестве входного воздействия."
   ]
  },
  {
   "cell_type": "code",
   "execution_count": null,
   "metadata": {},
   "outputs": [],
   "source": [
    "U_sympy = U_sympy.simplify()\n",
    "Y_sympy = U_sympy * W_sympy \n",
    "TF = Y_sympy.simplify()\n",
    "num_3 = list(map(float,sympy.Poly(sympy.fraction(TF)[0],s).all_coeffs()))\n",
    "denum_3 = list(map(float,sympy.Poly(sympy.fraction(TF)[1],s).all_coeffs()))\n",
    "tf_3_2=control.tf(num_3, denum_3)\n",
    "y_3 = control.impulse_response(tf_3_2, T=ts).outputs"
   ]
  },
  {
   "cell_type": "code",
   "execution_count": null,
   "metadata": {},
   "outputs": [],
   "source": [
    "plt.figure(figsize=(12.5, 7.5))\n",
    "plt.title('Задание 3.', fontsize=20)\n",
    "plt.xlabel(\"$t, [c]$\", fontsize=20)\n",
    "plt.ylabel(\"y\", fontsize=20)\n",
    "plt.grid(True)\n",
    "plt.plot(ts, y_full_convolution[0:len(ts)], linewidth=12, label='$y(t) = (y_{ir} * u)(t)$')\n",
    "plt.plot(ts, y_2, 'r--', linewidth=8, label='y(t) = W[u(t)]')\n",
    "plt.plot(ts, y_3, 'y:', linewidth=8, label='$y(t) = (UW)[\\delta(0)]$')\n",
    "plt.legend(fontsize=20)\n",
    "plt.savefig(f'{SAVE_PATH}/task3.jpg')"
   ]
  },
  {
   "cell_type": "markdown",
   "metadata": {},
   "source": [
    "inverse Laplace Transform  (6 * (4s^3 + 0.5s^2 + 2)) / (s^2 *(s^2 + 4) * (s+2)^4) "
   ]
  }
 ],
 "metadata": {
  "kernelspec": {
   "display_name": "venv10",
   "language": "python",
   "name": "python3"
  },
  "language_info": {
   "codemirror_mode": {
    "name": "ipython",
    "version": 3
   },
   "file_extension": ".py",
   "mimetype": "text/x-python",
   "name": "python",
   "nbconvert_exporter": "python",
   "pygments_lexer": "ipython3",
   "version": "3.10.9"
  }
 },
 "nbformat": 4,
 "nbformat_minor": 2
}
