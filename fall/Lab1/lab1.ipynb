{
 "cells": [
  {
   "cell_type": "markdown",
   "metadata": {},
   "source": [
    "Кирилл Лалаянц, R33352"
   ]
  },
  {
   "cell_type": "markdown",
   "metadata": {},
   "source": [
    "# Лабораторная работа No1 \n",
    "## Формы представления линейных систем"
   ]
  },
  {
   "cell_type": "markdown",
   "metadata": {},
   "source": [
    "Импорт необходимых для работы библиотек. "
   ]
  },
  {
   "cell_type": "code",
   "execution_count": null,
   "metadata": {},
   "outputs": [],
   "source": [
    "import matplotlib.pyplot as plt\n",
    "import numpy as np\n",
    "import control \n",
    "import sympy\n",
    "import os\n",
    "\n",
    "sympy.init_printing()\n",
    "p = sympy.Symbol(\"s\")"
   ]
  },
  {
   "cell_type": "markdown",
   "metadata": {},
   "source": [
    "Ввод данных варианта."
   ]
  },
  {
   "cell_type": "code",
   "execution_count": null,
   "metadata": {},
   "outputs": [],
   "source": [
    "var_num = 6\n",
    "\n",
    "# Task 1 & 2\n",
    "a2, a1, a0, b2, b1, b0 = [9, 3, 6, 12, 7, 7]\n",
    "\n",
    "# Task 3\n",
    "A11 = p + 19\n",
    "A12 = p + 3\n",
    "A21 = p + 6\n",
    "A22 = p + 2\n",
    "task3_A = sympy.Matrix([[A11, A12], [A21, A22]])\n",
    "\n",
    "B11 = 7\n",
    "B12 = 7\n",
    "B21 = 5\n",
    "B22 = 6\n",
    "task3_B = sympy.Matrix([[B11, B12], [B21, B22]])\n",
    "\n",
    "# Task 4\n",
    "task4_A = np.array([[0, -9], [1, -6]])\n",
    "task4_B = np.array([[1], [5]])\n",
    "task4_C = np.array([2, 5])\n",
    "\n",
    "# Task 5\n",
    "task5_A = np.array([[0, -9], [1, -6]])\n",
    "task5_B = np.array([[1, 4], [3, 5]])\n",
    "task5_C = np.array([[2, 7], [4, 6]])"
   ]
  },
  {
   "cell_type": "markdown",
   "metadata": {},
   "source": [
    "Параметры шага времени симуляции"
   ]
  },
  {
   "cell_type": "code",
   "execution_count": null,
   "metadata": {},
   "outputs": [],
   "source": [
    "dt = 0.001  # шаг симуляции\n",
    "max_t = 50  # время симуляции\n",
    "ts = np.linspace(0, max_t, int(max_t / dt))\n",
    "SAVE_PATH = 'tex-report/figs/'\n",
    "os.makedirs(SAVE_PATH, exist_ok=True)"
   ]
  },
  {
   "cell_type": "markdown",
   "metadata": {},
   "source": [
    "### Задание 1. Одноканальная система в форме вход-выход."
   ]
  },
  {
   "cell_type": "code",
   "execution_count": null,
   "metadata": {},
   "outputs": [],
   "source": [
    "# Создание TF\n",
    "den = [1, a2, a1, a0]  # denominator\n",
    "num = [b2, b1, b0]  # numerator\n",
    "transferFunction = control.tf(num, den)\n",
    "\n",
    "# Моделирование с 0 начальными значениями\n",
    "transferFunction_y = control.forced_response(transferFunction, U=1, X0=0, T=ts).outputs"
   ]
  },
  {
   "cell_type": "code",
   "execution_count": null,
   "metadata": {},
   "outputs": [],
   "source": [
    "# Построение графиков\n",
    "fig, axs = plt.subplots(1, 2, figsize=(15, 7.5))\n",
    "fig.suptitle(\"Задание 1. Моделирование TF.\")\n",
    "\n",
    "axs[0].plot(ts, [1] * len(ts), label='Входное воздействие')\n",
    "axs[0].set_title(f\"u = 1(t)\")\n",
    "axs[0].set_xlabel(f\"t, [c]\")\n",
    "axs[0].set_ylabel(f\"Входное воздействие\")\n",
    "axs[0].grid(True)\n",
    "axs[0].legend()\n",
    "\n",
    "axs[1].plot(ts, transferFunction_y, label='Выход системы')\n",
    "axs[1].set_title(f\"SISO TF Result\")\n",
    "axs[1].set_xlabel(f\"t, [c]\")\n",
    "axs[1].set_ylabel(f\"y, [м]\")\n",
    "axs[1].grid(True)\n",
    "axs[1].legend()\n",
    "\n",
    "plt.savefig(f'{SAVE_PATH}/task1.jpg')"
   ]
  },
  {
   "cell_type": "markdown",
   "metadata": {},
   "source": [
    "### Задание 2. Переход от формы вход-выход к форме вход-состояние-выход.\n"
   ]
  },
  {
   "cell_type": "code",
   "execution_count": null,
   "metadata": {},
   "outputs": [],
   "source": [
    "# Перевод передаточной функции в систему В-С-В\n",
    "state = control.tf2ss(transferFunction)\n",
    "\n",
    "# Приведение к нужной форме\n",
    "canonical_reachable_form = control.canonical_form(state, form=\"reachable\")\n",
    "canonical_observable_form = control.canonical_form(state, form=\"observable\")\n",
    "canonical_modal_form = control.canonical_form(state, form=\"modal\")\n",
    "\n",
    "if var_num % 2 == 0:\n",
    "    desired_form = canonical_reachable_form[0]\n",
    "    print(f\"Каноническая управляемая форма:\")\n",
    "else:\n",
    "    desired_form = canonical_observable_form[0]\n",
    "    print(f\"Каноническая наблюдаемая форма:\")\n",
    "print(desired_form)"
   ]
  },
  {
   "cell_type": "code",
   "execution_count": null,
   "metadata": {},
   "outputs": [],
   "source": [
    "# Задание начальных условий для ручного моделирования\n",
    "initial_state = np.array([[0, 0, 0]], dtype=np.float64).T\n",
    "stateSpaceManual_y = []\n",
    "\n",
    "# Ручное моделирование\n",
    "for t in ts:\n",
    "    initial_state += (desired_form.A @ initial_state + desired_form.B * 1) * dt\n",
    "    stateSpaceManual_y.append(desired_form.C @ initial_state)\n",
    "\n",
    "# Авто-моделирование\n",
    "stateSpaceAuto_y = control.forced_response(desired_form, U=1, X0=0, T=ts).outputs"
   ]
  },
  {
   "cell_type": "code",
   "execution_count": null,
   "metadata": {},
   "outputs": [],
   "source": [
    "# Построение графиков\n",
    "fig, axs = plt.subplots(1, 2, figsize=(15, 7.5))\n",
    "fig.suptitle(\"Задание 2. Результат моделирования SS. Сравнение.\")\n",
    "\n",
    "axs[0].plot(ts, [1] * len(ts), label='Входное воздействие')\n",
    "axs[0].set_title(f\"u = 1(t)\")\n",
    "axs[0].set_xlabel(f\"t, [c]\")\n",
    "axs[0].set_ylabel(f\"Входное воздействие\")\n",
    "axs[0].grid(True)\n",
    "axs[0].legend()\n",
    "# axs[1].plot(ts, transferFunction_y)\n",
    "axs[1].plot(ts, np.asarray(stateSpaceManual_y).reshape(-1), \"y.\", label=\"Ручной SS\")\n",
    "axs[1].plot(ts, stateSpaceAuto_y, \"b\", label=\"Авто SS\")\n",
    "axs[1].plot(ts, transferFunction_y, \"r--\", label=\"TF\")\n",
    "axs[1].set_title(f\"SISO SS & TF Results\")\n",
    "axs[1].set_xlabel(f\"t, [c]\")\n",
    "axs[1].set_ylabel(f\"y, [м]\")\n",
    "axs[1].grid(True)\n",
    "axs[1].legend()\n",
    "\n",
    "plt.savefig(f'{SAVE_PATH}/task2.jpg')"
   ]
  },
  {
   "cell_type": "markdown",
   "metadata": {},
   "source": [
    "### Задание 3. Многоканальная система в форме вход-выход."
   ]
  },
  {
   "cell_type": "markdown",
   "metadata": {},
   "source": [
    "Преобразование матриц в передаточную функцию."
   ]
  },
  {
   "cell_type": "code",
   "execution_count": null,
   "metadata": {},
   "outputs": [],
   "source": [
    "# Взятие обратной матрицы\n",
    "task3_A_inv = task3_A.inv()\n",
    "# Перемножение матриц\n",
    "Transform = task3_A_inv @ task3_B\n",
    "# Упрощение\n",
    "Transform.simplify()\n",
    "\n",
    "nums = []\n",
    "denums = []\n",
    "# Парсинг числителей и знаменателей элементов матрицы\n",
    "for element in Transform:\n",
    "    num, denum = sympy.fraction(element)\n",
    "    nums.append(sympy.Poly(num, p).coeffs())\n",
    "    denums.append(sympy.Poly(denum, p).coeffs())\n",
    "nums = np.array(nums, dtype=float).reshape((2, 2, 2))\n",
    "denums = np.array(denums, dtype=float).reshape((2, 2, 2))\n",
    "\n",
    "# Создание передаточной функции\n",
    "mimo_TF = control.tf(nums, denums)\n",
    "print(f\"Получившаяся TF-матрица: \")\n",
    "mimo_TF"
   ]
  },
  {
   "cell_type": "code",
   "execution_count": null,
   "metadata": {},
   "outputs": [],
   "source": [
    "print(mimo_TF)"
   ]
  },
  {
   "cell_type": "code",
   "execution_count": null,
   "metadata": {},
   "outputs": [],
   "source": [
    "mimo_State = control.tf2ss(mimo_TF)\n",
    "print('Представление в виде SS:')\n",
    "mimo_State"
   ]
  },
  {
   "cell_type": "code",
   "execution_count": null,
   "metadata": {},
   "outputs": [],
   "source": [
    "# Входы от времени\n",
    "u1 = np.zeros_like(ts) + 1\n",
    "u2 = 2 * np.sin(ts)\n",
    "mimo_Us = np.array([u1, u2])\n",
    "\n",
    "# Симуляция\n",
    "mimo_TF_y = control.forced_response(\n",
    "    mimo_TF, U=mimo_Us, X0=0, T=ts\n",
    ").outputs"
   ]
  },
  {
   "cell_type": "code",
   "execution_count": null,
   "metadata": {},
   "outputs": [],
   "source": [
    "# Построение графиков\n",
    "fig, axs = plt.subplots(1, 2, figsize=(15, 7.5))\n",
    "fig.suptitle(\"Задание 3. Многоканальная система в форме вход-выход.\")\n",
    "\n",
    "axs[0].plot(ts, u1, label='u1 = 1(t)')\n",
    "axs[0].plot(ts, u2, label='u2 = 2sin(t)')\n",
    "axs[0].set_title(f\"u = u(t)\")\n",
    "axs[0].set_xlabel(f\"t, [c]\")\n",
    "axs[0].set_ylabel(f\"Входное воздействие\")\n",
    "axs[0].grid(True)\n",
    "axs[0].legend()\n",
    "\n",
    "axs[1].plot(ts, mimo_TF_y[0], label='y1 = y1(t)')\n",
    "axs[1].plot(ts, mimo_TF_y[1], label='y2 = y2(t)')\n",
    "axs[1].set_title(f\"MIMO TF Results\")\n",
    "axs[1].set_xlabel(f\"t, [c]\")\n",
    "axs[1].set_ylabel(f\"y, [м]\")\n",
    "axs[1].grid(True)\n",
    "axs[1].legend()\n",
    "\n",
    "plt.savefig(f'{SAVE_PATH}/task3.jpg')"
   ]
  },
  {
   "cell_type": "markdown",
   "metadata": {},
   "source": [
    "### Задание 4. Одноканальная система в форме вход-состояние-выход."
   ]
  },
  {
   "cell_type": "code",
   "execution_count": null,
   "metadata": {},
   "outputs": [],
   "source": [
    "# Создание системы из матриц В-С-В\n",
    "siso_SS = control.ss(task4_A, task4_B, task4_C, [0])\n",
    "\n",
    "# Симуляция\n",
    "small_ts = ts[:5000]\n",
    "siso_SS_y = control.forced_response(siso_SS, U=1, X0=[0, 0], T=small_ts).outputs"
   ]
  },
  {
   "cell_type": "code",
   "execution_count": null,
   "metadata": {},
   "outputs": [],
   "source": [
    "# Построение графиков\n",
    "fig, axs = plt.subplots(1, 2, figsize=(15, 7.5))\n",
    "fig.suptitle(\"Задание 4. Одноканальная система в форме вход-состояние-выход.\")\n",
    "\n",
    "axs[0].plot(ts, [1] * len(ts), label='Входное воздействие')\n",
    "axs[0].set_title(f\"u = 1(t)\")\n",
    "axs[0].set_xlabel(f\"t, [c]\")\n",
    "axs[0].set_ylabel(f\"Входное воздействие\")\n",
    "axs[0].grid(True)\n",
    "axs[0].legend()\n",
    "axs[1].plot(small_ts, siso_SS_y, label=\"Результат моделирования\")\n",
    "axs[1].set_title(f\"SISO SS Result\")\n",
    "axs[1].set_xlabel(f\"t, [c]\")\n",
    "axs[1].set_ylabel(f\"y, [м]\")\n",
    "axs[1].grid(True)\n",
    "axs[1].legend()\n",
    "\n",
    "plt.savefig(f'{SAVE_PATH}/task4.jpg')"
   ]
  },
  {
   "cell_type": "markdown",
   "metadata": {},
   "source": [
    "### Задание 5. Многоканальная система в форме вход-состояние-выход."
   ]
  },
  {
   "cell_type": "code",
   "execution_count": null,
   "metadata": {},
   "outputs": [],
   "source": [
    "# Создание системы из матриц В-С-В\n",
    "mimo_SS = control.ss(task5_A, task5_B, task5_C, 0)\n",
    "\n",
    "# Симуляция\n",
    "mimo_SS_y = control.forced_response(mimo_SS, U=mimo_Us, X0=[0, 0], T=ts).outputs"
   ]
  },
  {
   "cell_type": "code",
   "execution_count": null,
   "metadata": {},
   "outputs": [],
   "source": [
    "# Построение графиков\n",
    "fig, axs = plt.subplots(1, 2, figsize=(15, 7.5))\n",
    "fig.suptitle(\"Задание 5. Многоканальная система в форме вход-состояние-выход.\")\n",
    "\n",
    "axs[0].plot(ts, u1, label='u1 = 1(t)')\n",
    "axs[0].plot(ts, u2, label='u2 = 2sin(t)')\n",
    "axs[0].set_title(f\"u = u(t)\")\n",
    "axs[0].set_xlabel(f\"t, [c]\")\n",
    "axs[0].set_ylabel(f\"Входное воздействие\")\n",
    "axs[0].grid(True)\n",
    "axs[0].legend()\n",
    "\n",
    "axs[1].plot(ts, mimo_SS_y[0], label='y1 = y1(t)')\n",
    "axs[1].plot(ts, mimo_SS_y[1], label='y2 = y2(t)')\n",
    "axs[1].set_title(f\"MIMO SS Results\")\n",
    "axs[1].set_xlabel(f\"t, [c]\")\n",
    "axs[1].set_ylabel(f\"y, [м]\")\n",
    "axs[1].grid(True)\n",
    "axs[1].legend()\n",
    "\n",
    "plt.savefig(f'{SAVE_PATH}/task5.jpg')"
   ]
  },
  {
   "cell_type": "markdown",
   "metadata": {},
   "source": [
    "# Выводы\n",
    "В процессе работы была проведена симуляция в среде Python при помощи Python Control Systems Library для одноканальных и многоканальных систем, данных в двух основных представлениях: Вход-Выход и Вход-Состояние-Выход. Проведено моделирование систем с использованием вход- ных воздействий u(t) = 1 и u(t) = 2sint, а также моделирование свободного движения системы с 0 начальными условиями.\n",
    "\n",
    "#### В результате моделирования было выявлено:\n",
    "1. если воздействовать на систему постоянным значением входного синала, в нашем случае 1 или 0, то система переходит в состояние, при котором выход системы не изменяется, равен константе.\n",
    "2. если воздействовать на систему переменным значением входного синала, в нашем случае 2 sin t, то выход системы принимает синусоидальную форму.\n",
    "3. если воздействовать на систему одновременно постоянным и переменным значением входного синала, 1 и 2 sin t, то выход системы принимает смещенную синусоидальную форму.\n"
   ]
  }
 ],
 "metadata": {
  "kernelspec": {
   "display_name": "venv10",
   "language": "python",
   "name": "python3"
  },
  "language_info": {
   "codemirror_mode": {
    "name": "ipython",
    "version": 3
   },
   "file_extension": ".py",
   "mimetype": "text/x-python",
   "name": "python",
   "nbconvert_exporter": "python",
   "pygments_lexer": "ipython3",
   "version": "3.10.9"
  }
 },
 "nbformat": 4,
 "nbformat_minor": 2
}
