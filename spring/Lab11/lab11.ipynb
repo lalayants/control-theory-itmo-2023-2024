{
 "cells": [
  {
   "cell_type": "markdown",
   "metadata": {},
   "source": [
    "Кирилл Лалаянц, R33352"
   ]
  },
  {
   "cell_type": "markdown",
   "metadata": {},
   "source": [
    "# Лабораторная работа No11\n",
    "# В -- 11\n",
    "## 𝐻2 и 𝐻∞"
   ]
  },
  {
   "cell_type": "code",
   "execution_count": 1,
   "metadata": {},
   "outputs": [],
   "source": [
    "import matplotlib.pyplot as plt\n",
    "import numpy as np\n",
    "import control \n",
    "import sympy\n",
    "import os\n",
    "import scipy\n",
    "import cvxpy \n",
    "import array_to_latex as a2l\n",
    "# plt.rcParams['text.usetex'] = True\n",
    "\n",
    "SAVE_PATH = 'tex-report/src/figs/'\n",
    "os.makedirs(SAVE_PATH, exist_ok=True)\n",
    "np.set_printoptions(precision=2)\n",
    "sympy.init_printing()\n",
    "p = sympy.Symbol(\"p\")\n",
    "s = sympy.Symbol(\"s\")\n",
    "t = sympy.Symbol(\"t\")\n",
    "w = sympy.Symbol(\"w\")\n",
    "I = sympy.I\n",
    "\n",
    "\n",
    "def get_t(end_t = 10, dt=0.001, start_t = 0):\n",
    "    return np.linspace(start_t, end_t, int(end_t / dt))"
   ]
  },
  {
   "cell_type": "code",
   "execution_count": 2,
   "metadata": {},
   "outputs": [],
   "source": [
    "def get_controllability_matrix(A, B):\n",
    "    ctrb_m = np.hstack((B, *[(np.linalg.matrix_power(A, i)) @ B for i in range(1, A.shape[0])]))\n",
    "    assert np.allclose(control.ctrb(A, B), ctrb_m), 'Smth wrong'\n",
    "    return ctrb_m\n",
    "\n",
    "def get_observability_matrix(A, C):\n",
    "    obsv_m = np.vstack((C, *[C @ np.linalg.matrix_power(A, i) for i in range(1, A.shape[0])]))\n",
    "    assert np.allclose(control.obsv(A, C), obsv_m), 'Smth wrong'\n",
    "    return obsv_m\n",
    "        \n",
    "def check_controllability_eigens(A, B):\n",
    "    eig_vals = np.linalg.eigvals(A)\n",
    "    print(f'Eigen values of A:')\n",
    "    for val in eig_vals:\n",
    "        print(f\"   {np.array([val])}: {'controllable' if np.linalg.matrix_rank(np.hstack(((A - val * np.eye(A.shape[0])), B))) == A.shape[0] else 'not controllable'}\")\n",
    "\n",
    "def check_observability_eigens(C, A):\n",
    "    eig_vals = np.linalg.eigvals(A)\n",
    "    print(f'Eigen values of A:')\n",
    "    for val in eig_vals:\n",
    "        print(f\"   {np.array([val])}: {'observable' if np.linalg.matrix_rank(np.vstack(((A - val * np.eye(A.shape[0])), C))) == A.shape[0] else 'not observable'}\")\n"
   ]
  },
  {
   "cell_type": "code",
   "execution_count": 18,
   "metadata": {},
   "outputs": [
    {
     "name": "stdout",
     "output_type": "stream",
     "text": [
      "\\begin{bmatrix}\n",
      "  0.00 &  1.00\\\\\n",
      "  0.00 &  0.00\n",
      "\\end{bmatrix}\n",
      "\\begin{bmatrix}\n",
      "  0.00\\\\\n",
      "  1.00\n",
      "\\end{bmatrix}\n"
     ]
    }
   ],
   "source": [
    "A = np.array([\n",
    "    [0, 1],\n",
    "    [0, 0],\n",
    "])\n",
    "a2l.to_ltx(A)\n",
    "\n",
    "B_2 = np.array([[0],\n",
    "                [1]])\n",
    "a2l.to_ltx(B_2)"
   ]
  },
  {
   "cell_type": "markdown",
   "metadata": {},
   "source": [
    "## Task1"
   ]
  },
  {
   "cell_type": "code",
   "execution_count": 57,
   "metadata": {},
   "outputs": [
    {
     "name": "stdout",
     "output_type": "stream",
     "text": [
      "\\begin{bmatrix}\n",
      "  1.00 &  0.00\\\\\n",
      "  0.00 &  1.00\n",
      "\\end{bmatrix}\n"
     ]
    }
   ],
   "source": [
    "task1_B_1 = np.array([[1, 0],\n",
    "                [0, 1]])\n",
    "a2l.to_ltx(task1_B_1)\n",
    "\n",
    "task1_C_2s = np.array([\n",
    "    [[1, 1],\n",
    "     [0, 1],\n",
    "     [0, 0]],\n",
    "    [[0, 0],\n",
    "     [1, 0],\n",
    "     [0, 0]],\n",
    "])\n",
    "task1_D_2s = np.array([[[0], [0], [1]], [[1], [0], [1]]])\n",
    "\n",
    "ts = get_t(15)\n",
    "w = np.vstack([0.05 * np.sin(ts), 0.01 * np.sin(10 * ts)])"
   ]
  },
  {
   "cell_type": "code",
   "execution_count": 76,
   "metadata": {},
   "outputs": [
    {
     "name": "stdout",
     "output_type": "stream",
     "text": [
      "Eigen values of A:\n",
      "   [0.]: controllable\n",
      "   [0.]: controllable\n",
      "Eigen values of A:\n",
      "   [0.]: observable\n",
      "   [0.]: observable\n",
      "\\[C_2 = \\begin{bmatrix}\n",
      "  1.00 &  1.00\\\\\n",
      "  0.00 &  1.00\\\\\n",
      "  0.00 &  0.00\n",
      "\\end{bmatrix}; D_2 = \\begin{bmatrix}\n",
      "  0.00\\\\\n",
      "  0.00\\\\\n",
      "  1.00\n",
      "\\end{bmatrix};\\]\n",
      "\\[C_2^T D_2 = 0: True\\]\n",
      "\\[D_2^T D_2 \\text{ обратима}: True\\]\n",
      "\\[spec(A-B_2 K) = \\begin{bmatrix}\n",
      " -1.00 + 0.00j & -1.00 + -0.00j\n",
      "\\end{bmatrix}\\]\n",
      "\\[Q = \\begin{bmatrix}\n",
      "  1.00 &  1.00\\\\\n",
      "  1.00 &  2.00\n",
      "\\end{bmatrix}\\]\n"
     ]
    },
    {
     "data": {
      "text/plain": [
       "[<matplotlib.lines.Line2D at 0x1609e7820>]"
      ]
     },
     "execution_count": 76,
     "metadata": {},
     "output_type": "execute_result"
    },
    {
     "data": {
      "image/png": "[encoded data removed]",
      "text/plain": [
       "<Figure size 640x480 with 1 Axes>"
      ]
     },
     "metadata": {},
     "output_type": "display_data"
    }
   ],
   "source": [
    "i = 0\n",
    "task1_C_2 = task1_C_2s[i]\n",
    "task1_D_2 = task1_D_2s[i]\n",
    "check_controllability_eigens(A, B_2)\n",
    "check_observability_eigens(task1_C_2, A)\n",
    "Q = task1_C_2.T @ task1_C_2\n",
    "R = task1_D_2.T @ task1_D_2\n",
    "K, S, E = control.lqr(A, B_2, Q, R)\n",
    "print(f'\\[C_2 = {a2l.to_ltx(task1_C_2, print_out=False)}; D_2 = {a2l.to_ltx(task1_D_2, print_out=False)};\\]')\n",
    "print(f'\\[C_2^T D_2 = 0: {np.all(task1_C_2.T @ task1_D_2 == 0)}\\]')\n",
    "print(f'\\[D_2^T D_2 \\\\text{\"{ обратима}\"}: {np.linalg.det(task1_D_2.T @ task1_D_2) != 0}\\]')\n",
    "print(f'\\[spec(A-B_2 K) = {a2l.to_ltx(E, print_out=False)}\\]')\n",
    "print(f'\\[Q = {a2l.to_ltx(S, print_out=False)}\\]')\n",
    "ss = control.ss(A - B_2@K, task1_B_1, task1_C_2 - task1_D_2 @ K, np.zeros((task1_C_2.shape[0], task1_B_1.shape[1])))\n",
    "\n",
    "resp = control.forced_response(ss, X0=np.ones((2, 1)), T=ts, U=w)\n",
    "resp_z = resp.outputs\n",
    "plt.plot(ts, resp_z[2])\n"
   ]
  },
  {
   "cell_type": "code",
   "execution_count": null,
   "metadata": {},
   "outputs": [],
   "source": []
  }
 ],
 "metadata": {
  "kernelspec": {
   "display_name": "venv10",
   "language": "python",
   "name": "python3"
  },
  "language_info": {
   "codemirror_mode": {
    "name": "ipython",
    "version": 3
   },
   "file_extension": ".py",
   "mimetype": "text/x-python",
   "name": "python",
   "nbconvert_exporter": "python",
   "pygments_lexer": "ipython3",
   "version": "3.10.9"
  }
 },
 "nbformat": 4,
 "nbformat_minor": 2
}
