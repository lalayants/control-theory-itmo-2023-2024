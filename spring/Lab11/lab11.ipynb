{
 "cells": [
  {
   "cell_type": "markdown",
   "metadata": {},
   "source": [
    "Кирилл Лалаянц, R33352"
   ]
  },
  {
   "cell_type": "markdown",
   "metadata": {},
   "source": [
    "# Лабораторная работа No11\n",
    "# В -- 11\n",
    "## 𝐻2 и 𝐻∞"
   ]
  },
  {
   "cell_type": "code",
   "execution_count": 1,
   "metadata": {},
   "outputs": [],
   "source": [
    "import matplotlib.pyplot as plt\n",
    "import numpy as np\n",
    "import control \n",
    "import sympy\n",
    "import os\n",
    "import scipy\n",
    "import cvxpy \n",
    "import sympy.plotting\n",
    "import array_to_latex as a2l\n",
    "# plt.rcParams['text.usetex'] = True\n",
    "\n",
    "SAVE_PATH = 'tex-report/src/figs/'\n",
    "os.makedirs(SAVE_PATH, exist_ok=True)\n",
    "np.set_printoptions(precision=2)\n",
    "sympy.init_printing()\n",
    "p = sympy.Symbol(\"p\")\n",
    "s = sympy.Symbol(\"s\")\n",
    "t = sympy.Symbol(\"t\")\n",
    "w = sympy.Symbol(\"w\")\n",
    "I = sympy.I\n",
    "\n",
    "\n",
    "def get_t(end_t = 10, dt=0.001, start_t = 0):\n",
    "    return np.linspace(start_t, end_t, int(end_t / dt))"
   ]
  },
  {
   "cell_type": "code",
   "execution_count": 2,
   "metadata": {},
   "outputs": [],
   "source": [
    "def get_controllability_matrix(A, B):\n",
    "    ctrb_m = np.hstack((B, *[(np.linalg.matrix_power(A, i)) @ B for i in range(1, A.shape[0])]))\n",
    "    assert np.allclose(control.ctrb(A, B), ctrb_m), 'Smth wrong'\n",
    "    return ctrb_m\n",
    "\n",
    "def get_observability_matrix(A, C):\n",
    "    obsv_m = np.vstack((C, *[C @ np.linalg.matrix_power(A, i) for i in range(1, A.shape[0])]))\n",
    "    assert np.allclose(control.obsv(A, C), obsv_m), 'Smth wrong'\n",
    "    return obsv_m\n",
    "        \n",
    "def check_controllability_eigens(A, B):\n",
    "    eig_vals = np.linalg.eigvals(A)\n",
    "    print(f'Eigen values of A:')\n",
    "    for val in eig_vals:\n",
    "        print(f\"   {np.array([val])}: {'controllable' if np.linalg.matrix_rank(np.hstack(((A - val * np.eye(A.shape[0])), B))) == A.shape[0] else 'not controllable'}\")\n",
    "\n",
    "def check_observability_eigens(C, A):\n",
    "    eig_vals = np.linalg.eigvals(A)\n",
    "    print(f'Eigen values of A:')\n",
    "    for val in eig_vals:\n",
    "        print(f\"   {np.array([val])}: {'observable' if np.linalg.matrix_rank(np.vstack(((A - val * np.eye(A.shape[0])), C))) == A.shape[0] else 'not observable'}\")\n"
   ]
  },
  {
   "cell_type": "code",
   "execution_count": 3,
   "metadata": {},
   "outputs": [
    {
     "name": "stdout",
     "output_type": "stream",
     "text": [
      "\\begin{bmatrix}\n",
      "  0.00 &  1.00\\\\\n",
      "  0.00 &  0.00\n",
      "\\end{bmatrix}\n",
      "\\begin{bmatrix}\n",
      "  0.00\\\\\n",
      "  1.00\n",
      "\\end{bmatrix}\n"
     ]
    }
   ],
   "source": [
    "A = np.array([\n",
    "    [0, 1],\n",
    "    [0, 0],\n",
    "])\n",
    "a2l.to_ltx(A)\n",
    "\n",
    "B_2 = np.array([[0],\n",
    "                [1]])\n",
    "a2l.to_ltx(B_2)"
   ]
  },
  {
   "cell_type": "markdown",
   "metadata": {},
   "source": [
    "## Task1"
   ]
  },
  {
   "cell_type": "code",
   "execution_count": 4,
   "metadata": {},
   "outputs": [
    {
     "name": "stdout",
     "output_type": "stream",
     "text": [
      "\\begin{bmatrix}\n",
      "  1.00 &  0.00\\\\\n",
      "  0.00 &  1.00\n",
      "\\end{bmatrix}\n"
     ]
    }
   ],
   "source": [
    "task1_B_1 = np.array([[1, 0],\n",
    "                [0, 1]])\n",
    "a2l.to_ltx(task1_B_1)\n",
    "\n",
    "task1_C_2s = np.array([\n",
    "    [[1, 1],\n",
    "     [0, 1],\n",
    "     [0, 0]],\n",
    "    [[0, 0],\n",
    "     [1, 0],\n",
    "     [0, 0]],\n",
    "])\n",
    "task1_D_2s = np.array([[[0], [0], [1]], [[1], [0], [1]]])\n",
    "\n",
    "ts = get_t(15)\n",
    "w = np.vstack([0.05 * np.sin(ts), 0.01 * np.sin(10 * ts)])"
   ]
  },
  {
   "cell_type": "code",
   "execution_count": 5,
   "metadata": {},
   "outputs": [],
   "source": [
    "omega_i = sympy.Symbol(\"omega\",real=True) * sympy.I\n",
    "\n",
    "def get_fraction(tf):\n",
    "    num, den = tf.num[0][0], tf.den[0][0]\n",
    "    den_ = sum((0 if abs(co) < 1e-3 else co) * omega_i**i for i, co in enumerate(reversed(den)))\n",
    "    num_ = sum((0 if abs(co) < 1e-3 else co) * omega_i**i for i, co in enumerate(reversed(num)))\n",
    "    return num_ / den_\n"
   ]
  },
  {
   "cell_type": "code",
   "execution_count": 9,
   "metadata": {},
   "outputs": [
    {
     "name": "stdout",
     "output_type": "stream",
     "text": [
      "\n",
      "______________________________\n",
      "Eigen values of A:\n",
      "   [0.]: controllable\n",
      "   [0.]: controllable\n",
      "Eigen values of A:\n",
      "   [0.]: observable\n",
      "   [0.]: observable\n",
      "\\[C_2 = \\begin{bmatrix}\n",
      "  1.00 &  1.00\\\\\n",
      "  0.00 &  1.00\\\\\n",
      "  0.00 &  0.00\n",
      "\\end{bmatrix}; D_2 = \\begin{bmatrix}\n",
      "  0.00\\\\\n",
      "  0.00\\\\\n",
      "  1.00\n",
      "\\end{bmatrix};\\]\n",
      "\\[C_2^T D_2 = 0: True\\]\n",
      "\\[D_2^T D_2 \\text{ обратима}: True\\]\n",
      "\\[spec(A-B_2 K) = \\begin{bmatrix}\n",
      " -1.00 + 0.00j & -1.00 + -0.00j\n",
      "\\end{bmatrix}\\]\n",
      "\\[Q = \\begin{bmatrix}\n",
      "  1.00 &  1.00\\\\\n",
      "  1.00 &  2.00\n",
      "\\end{bmatrix}\\]\n",
      "\\[K = \\begin{bmatrix}\n",
      "  1.00 &  2.00\n",
      "\\end{bmatrix}\\]\n",
      "\\[||W||_{H_2} = 1.7320508075688776\\]\n",
      "\\left[\\begin{matrix}\\frac{1.0 i \\omega}{- 1.0 \\omega^{2} + 1.0 i \\omega} & \\frac{1.0 i \\omega}{- 1.0 \\omega^{2} + 1.0 i \\omega}\\\\- \\frac{1.0}{- 1.0 \\omega^{2} + 2.0 i \\omega + 1.0} & \\frac{1.0 i \\omega}{- 1.0 \\omega^{2} + 2.0 i \\omega + 1.0}\\\\- \\frac{1.0 i \\omega}{- 1.0 \\omega^{2} + 2.0 i \\omega + 1.0} & \\frac{- 2.0 i \\omega - 1.0}{- 1.0 \\omega^{2} + 2.0 i \\omega + 1.0}\\end{matrix}\\right]\n"
     ]
    },
    {
     "data": {
      "image/png": "[encoded data removed]",
      "text/plain": [
       "<Figure size 640x480 with 1 Axes>"
      ]
     },
     "metadata": {},
     "output_type": "display_data"
    },
    {
     "name": "stdout",
     "output_type": "stream",
     "text": [
      "\n",
      "______________________________\n",
      "Eigen values of A:\n",
      "   [0.]: controllable\n",
      "   [0.]: controllable\n",
      "Eigen values of A:\n",
      "   [0.]: observable\n",
      "   [0.]: observable\n",
      "\\[C_2 = \\begin{bmatrix}\n",
      "  0.00 &  0.00\\\\\n",
      "  1.00 &  0.00\\\\\n",
      "  0.00 &  0.00\n",
      "\\end{bmatrix}; D_2 = \\begin{bmatrix}\n",
      "  1.00\\\\\n",
      "  0.00\\\\\n",
      "  1.00\n",
      "\\end{bmatrix};\\]\n",
      "\\[C_2^T D_2 = 0: True\\]\n",
      "\\[D_2^T D_2 \\text{ обратима}: True\\]\n",
      "\\[spec(A-B_2 K) = \\begin{bmatrix}\n",
      " -0.59 + 0.59j & -0.59 + -0.59j\n",
      "\\end{bmatrix}\\]\n",
      "\\[Q = \\begin{bmatrix}\n",
      "  1.68 &  1.41\\\\\n",
      "  1.41 &  2.38\n",
      "\\end{bmatrix}\\]\n",
      "\\[K = \\begin{bmatrix}\n",
      "  0.71 &  1.19\n",
      "\\end{bmatrix}\\]\n",
      "\\[||W||_{H_2} = 2.0149955485094426\\]\n",
      "\\left[\\begin{matrix}- \\frac{0.707106781186548 i \\omega}{- 1.0 \\omega^{2} + 1.18920711500272 i \\omega + 0.707106781186547} & \\frac{- 1.18920711500272 i \\omega - 0.707106781186548}{- 1.0 \\omega^{2} + 1.18920711500272 i \\omega + 0.707106781186547}\\\\\\frac{1.0 i \\omega + 1.18920711500272}{- 1.0 \\omega^{2} + 1.18920711500272 i \\omega + 0.707106781186548} & \\frac{1.0}{- 1.0 \\omega^{2} + 1.18920711500272 i \\omega + 0.707106781186548}\\\\- \\frac{0.707106781186548 i \\omega}{- 1.0 \\omega^{2} + 1.18920711500272 i \\omega + 0.707106781186547} & \\frac{- 1.18920711500272 i \\omega - 0.707106781186548}{- 1.0 \\omega^{2} + 1.18920711500272 i \\omega + 0.707106781186547}\\end{matrix}\\right]\n"
     ]
    },
    {
     "data": {
      "image/png": "[encoded data removed]",
      "text/plain": [
       "<Figure size 640x480 with 1 Axes>"
      ]
     },
     "metadata": {},
     "output_type": "display_data"
    }
   ],
   "source": [
    "for i in range(2):\n",
    "    print('\\n______________________________')\n",
    "    task1_C_2 = task1_C_2s[i]\n",
    "    task1_D_2 = task1_D_2s[i]\n",
    "    check_controllability_eigens(A, B_2)\n",
    "    check_observability_eigens(task1_C_2, A)\n",
    "    Q = task1_C_2.T @ task1_C_2\n",
    "    R = task1_D_2.T @ task1_D_2\n",
    "    K, S, E = control.lqr(A, B_2, Q, R)\n",
    "    print(f'\\[C_2 = {a2l.to_ltx(task1_C_2, print_out=False)}; D_2 = {a2l.to_ltx(task1_D_2, print_out=False)};\\]')\n",
    "    print(f'\\[C_2^T D_2 = 0: {np.all(task1_C_2.T @ task1_D_2 == 0)}\\]')\n",
    "    print(f'\\[D_2^T D_2 \\\\text{\"{ обратима}\"}: {np.linalg.det(task1_D_2.T @ task1_D_2) != 0}\\]')\n",
    "    print(f'\\[spec(A-B_2 K) = {a2l.to_ltx(E, print_out=False)}\\]')\n",
    "    print(f'\\[Q = {a2l.to_ltx(S, print_out=False)}\\]')\n",
    "    print(f'\\[K = {a2l.to_ltx(K, print_out=False)}\\]')\n",
    "\n",
    "    ss = control.ss(A - B_2@K, task1_B_1, task1_C_2 - task1_D_2 @ K, np.zeros((task1_C_2.shape[0], task1_B_1.shape[1])))\n",
    "    gram_obs = control.gram(ss, \"o\")\n",
    "    print(f'\\[||W||_{\"{H_2}\"} = {np.sqrt(np.trace(task1_B_1.T @ gram_obs @ task1_B_1))}\\]')\n",
    "\n",
    "    resp = control.forced_response(ss, X0=np.ones((2, 1)), T=ts, U=w)\n",
    "    for indx, z in enumerate(resp.outputs):\n",
    "        plt.plot(ts, z, label=f'$z_{indx}$')\n",
    "    plt.xlabel('t, c')\n",
    "    plt.ylabel('z')\n",
    "    plt.legend()\n",
    "    plt.savefig(f'{SAVE_PATH}/task1_{i}_zs.jpg')\n",
    "    plt.close()\n",
    "\n",
    "    tf = control.ss2tf(ss)\n",
    "    \n",
    "    for ni in range(task1_C_2.shape[0]):\n",
    "        for nj in range(task1_B_1.shape[1]):\n",
    "            mag, phase, omega = control.bode(tf[ni, nj], omega=np.arange(10**-3, 10**3, 10**-2), plot=False)\n",
    "            plt.plot(omega, mag)\n",
    "    plt.yscale('log')\n",
    "    plt.xscale('log')\n",
    "    plt.xlabel('w, rad/s')\n",
    "    plt.ylabel('Amp')\n",
    "    plt.savefig(f'{SAVE_PATH}/task1_{i}_amps.jpg')  \n",
    "    plt.close()\n",
    "    \n",
    "    \n",
    "    smatrix = []\n",
    "    for row in range(tf.noutputs):\n",
    "        srow = []\n",
    "        for col in range(tf.ninputs):\n",
    "            srow.append(get_fraction(tf[row, col]))\n",
    "        smatrix.append(srow)\n",
    "    smatrix = sympy.Matrix(smatrix)\n",
    "    sympy.print_latex(smatrix)\n",
    "    sing = sympy.Matrix(sympy.Abs(smatrix).singular_values()).T\n",
    "    sing.simplify()\n",
    "    p = sympy.plotting.plot(sing[0],show=False,xlim=[0,10])\n",
    "    p.append(sympy.plotting.plot(sing[1],show=False,xlim=[0,10])[0])\n",
    "    p.show()\n",
    "    p.save(f'{SAVE_PATH}/task1_{i}_sing.jpg')\n",
    "    plt.close()\n",
    "    \n"
   ]
  },
  {
   "cell_type": "markdown",
   "metadata": {},
   "source": [
    "## Task2"
   ]
  },
  {
   "cell_type": "code",
   "execution_count": null,
   "metadata": {},
   "outputs": [],
   "source": []
  }
 ],
 "metadata": {
  "kernelspec": {
   "display_name": "venv10",
   "language": "python",
   "name": "python3"
  },
  "language_info": {
   "codemirror_mode": {
    "name": "ipython",
    "version": 3
   },
   "file_extension": ".py",
   "mimetype": "text/x-python",
   "name": "python",
   "nbconvert_exporter": "python",
   "pygments_lexer": "ipython3",
   "version": "3.11.9"
  }
 },
 "nbformat": 4,
 "nbformat_minor": 2
}
