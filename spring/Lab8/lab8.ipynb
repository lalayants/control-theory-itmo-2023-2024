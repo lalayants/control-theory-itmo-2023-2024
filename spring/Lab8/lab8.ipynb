{
 "cells": [
  {
   "cell_type": "markdown",
   "metadata": {},
   "source": [
    "Кирилл Лалаянц, R33352"
   ]
  },
  {
   "cell_type": "markdown",
   "metadata": {},
   "source": [
    "# Лабораторная работа No8\n",
    "# В -- 11\n",
    "## Модальные регуляторы и наблюдатели"
   ]
  },
  {
   "cell_type": "markdown",
   "metadata": {},
   "source": [
    "Импорт необходимых для работы библиотек. "
   ]
  },
  {
   "cell_type": "code",
   "execution_count": null,
   "metadata": {},
   "outputs": [],
   "source": [
    "import matplotlib.pyplot as plt\n",
    "import numpy as np\n",
    "import control \n",
    "import sympy\n",
    "import os\n",
    "import scipy\n",
    "import cvxpy \n",
    "import array_to_latex as a2l\n",
    "# plt.rcParams['text.usetex'] = True\n",
    "\n",
    "SAVE_PATH = 'tex-report/src/figs/'\n",
    "os.makedirs(SAVE_PATH, exist_ok=True)\n",
    "np.set_printoptions(precision=1)\n",
    "sympy.init_printing()\n",
    "p = sympy.Symbol(\"p\")\n",
    "s = sympy.Symbol(\"s\")\n",
    "t = sympy.Symbol(\"t\")\n",
    "w = sympy.Symbol(\"w\")\n",
    "I = sympy.I\n",
    "\n",
    "\n",
    "def get_t(end_t = 10, dt=0.001, start_t = 0):\n",
    "    return np.linspace(start_t, end_t, int(end_t / dt))"
   ]
  },
  {
   "cell_type": "markdown",
   "metadata": {},
   "source": [
    "## Task1"
   ]
  },
  {
   "cell_type": "code",
   "execution_count": null,
   "metadata": {},
   "outputs": [],
   "source": [
    "task1_A = np.array([\n",
    "    [-4, 0, 0, 0],\n",
    "    [0, 1, 0, 0],\n",
    "    [0, 0, 1, 5],\n",
    "    [0, 0, -5, 1]\n",
    "])\n",
    "\n",
    "task1_B = np.array([[0], \n",
    "                    [2], \n",
    "                    [0], \n",
    "                    [9]])\n",
    "\n",
    "task1_specs = np.array([\n",
    "    [-4, -4, -4, -4],\n",
    "    [-4, -40, -400, -400],\n",
    "    [-4, -8, 5j, -5j],\n",
    "    [-4, -8, -1 + 5j, -1 - 5j],\n",
    "])\n",
    "\n",
    "task1_x0 = np.array([1, 1, 1, 1])\n",
    "\n",
    "print(a2l.to_ltx(task1_specs, frmt = '{:2.2f}', arraytype = 'bmatrix', print_out=False))"
   ]
  },
  {
   "cell_type": "code",
   "execution_count": null,
   "metadata": {},
   "outputs": [],
   "source": [
    "def get_controllability_matrix(A, B):\n",
    "    ctrb_m = np.hstack((B, *[(np.linalg.matrix_power(A, i)) @ B for i in range(1, A.shape[0])]))\n",
    "    assert np.allclose(control.ctrb(A, B), ctrb_m), 'Smth wrong'\n",
    "    return ctrb_m\n",
    "\n",
    "def get_observability_matrix(A, C):\n",
    "    obsv_m = np.vstack((C, *[C @ np.linalg.matrix_power(A, i) for i in range(1, A.shape[0])]))\n",
    "    assert np.allclose(control.obsv(A, C), obsv_m), 'Smth wrong'\n",
    "    return obsv_m\n",
    "\n",
    "def check_controllability(A, B):\n",
    "    U = get_controllability_matrix(A, B)\n",
    "    print(f'RankU = {np.linalg.matrix_rank(U)}')\n",
    "    return np.linalg.matrix_rank(U) == A.shape[0]\n",
    "        \n",
    "def check_controllability_eigens(A, B):\n",
    "    eig_vals = np.linalg.eigvals(A)\n",
    "    print(f'Eigen values of A:')\n",
    "    for val in eig_vals:\n",
    "        print(f\"   {np.array([val])}: {'controllable' if np.linalg.matrix_rank(np.hstack(((A - val * np.eye(A.shape[0])), B))) == A.shape[0] else 'not controllable'}\")\n",
    "\n",
    "def check_observability(C, A):\n",
    "    V = get_observability_matrix(A, C)\n",
    "    print(f'RankV = {np.linalg.matrix_rank(V)}')\n",
    "    return np.linalg.matrix_rank(V) == A.shape[0]\n",
    "\n",
    "def check_observability_eigens(C, A):\n",
    "    eig_vals = np.linalg.eigvals(A)\n",
    "    print(f'Eigen values of A:')\n",
    "    for val in eig_vals:\n",
    "        print(f\"   {np.array([val])}: {'observable' if np.linalg.matrix_rank(np.vstack(((A - val * np.eye(A.shape[0])), C))) == A.shape[0] else 'not observable'}\")\n",
    "\n",
    "\n",
    "def task1_get_K(A, B, G, Y):\n",
    "    P= cvxpy.Variable(A.shape)\n",
    "    objective = cvxpy.Minimize(cvxpy.sum_squares(A @ P - P @ G - B @ Y))\n",
    "    prob = cvxpy.Problem(objective)\n",
    "    print(f'Optimization error: {prob.solve()}, rankP = {np.linalg.matrix_rank(P.value)}')\n",
    "    return - Y @ np.linalg.pinv(P.value)\n",
    "\n",
    "def task1_get_G(specs):\n",
    "    new_g = np.diag(specs)\n",
    "    for i in range(1, new_g.shape[0]):\n",
    "        if new_g[i, i] == new_g[i-1, i-1]:\n",
    "            new_g[i-1, i] = 1\n",
    "    if specs[2].imag != 0:\n",
    "        new_g[2, 2] = specs[2].real\n",
    "        new_g[3, 3] = specs[2].real\n",
    "        new_g[2, 3] = specs[2].imag\n",
    "        new_g[3, 2] = -specs[2].imag\n",
    "    return new_g\n",
    "\n",
    "def task1_get_G_bad(specs):\n",
    "    base = []\n",
    "    for i in range(len(specs)):\n",
    "        rolled = np.array(np.roll([i + 1 for i in range(len(specs))], i))\n",
    "        base.append(rolled)\n",
    "    base = np.array(base)\n",
    "    new_g = np.diag(specs)\n",
    "    for i in range(1, new_g.shape[0]):\n",
    "            if new_g[i, i] == new_g[i-1, i-1]:\n",
    "                new_g[i-1, i] = 1\n",
    "    if specs[2].imag != 0:\n",
    "            new_g[2, 2] = specs[2].real\n",
    "            new_g[3, 3] = specs[2].real\n",
    "            new_g[2, 3] = specs[2].imag\n",
    "            new_g[3, 2] = -specs[2].imag\n",
    "        \n",
    "    new_g = base @ new_g @ np.linalg.inv(base)\n",
    "    return new_g\n",
    "    \n",
    "    \n",
    "def task1_simulate(A, B, K, x0, ts):\n",
    "    print(f'spec(A + B@K): {np.linalg.eigvals(A + B@K)}')\n",
    "    ss = control.ss(A + B@K, A*0, A*0, A*0)\n",
    "    return control.forced_response(ss, X0=x0, T=ts)"
   ]
  },
  {
   "cell_type": "code",
   "execution_count": null,
   "metadata": {},
   "outputs": [],
   "source": [
    "check_controllability_eigens(task1_A, task1_B)"
   ]
  },
  {
   "cell_type": "code",
   "execution_count": null,
   "metadata": {},
   "outputs": [],
   "source": [
    "for indx, specs in enumerate(task1_specs):\n",
    "    print(f'\\n======== {specs} ========')\n",
    "    new_g = task1_get_G(specs)\n",
    "    new_y = np.ones((task1_B.shape[1], task1_A.shape[0]))\n",
    "    new_y[0, 0] = 0\n",
    "    # print(f'G:\\n{new_g}')\n",
    "    # print(f'Y:\\n{new_y}')\n",
    "    \n",
    "    K = task1_get_K(task1_A, task1_B, new_g, new_y).astype(np.float64)\n",
    "    check_observability(new_y, new_g)\n",
    "    check_observability_eigens(new_y, new_g)\n",
    "    \n",
    "    print(f'K = {K}')\n",
    "    print(a2l.to_ltx(K, frmt = '{:2.2f}', arraytype = 'bmatrix', print_out=False))\n",
    "    \n",
    "    ts = get_t(10)\n",
    "    res = task1_simulate(task1_A, task1_B, K, task1_x0, ts)\n",
    "\n",
    "    fig, axs = plt.subplots(1, 2, figsize=(8, 5))\n",
    "    for i in range(4):\n",
    "        axs[0].plot(ts, res.states[i], linewidth = 3, label=f'$x_{i}$')\n",
    "    axs[0].grid(True)\n",
    "    axs[0].legend()\n",
    "    axs[0].set_title(f'x = x(t)', fontsize=12)\n",
    "    axs[0].set_xlabel(f\"t, [c]\", fontsize=12)\n",
    "\n",
    "    axs[1].plot(ts, (K @ res.states).reshape(-1), linewidth = 3)\n",
    "    axs[1].grid(True)\n",
    "    axs[1].set_title(f'u = u(t)', fontsize=12)\n",
    "    axs[1].set_xlabel(f\"t, [c]\", fontsize=12)\n",
    "    plt.savefig(f'{SAVE_PATH}/task1_{indx}.jpg')"
   ]
  },
  {
   "cell_type": "markdown",
   "metadata": {},
   "source": [
    "## Task 2"
   ]
  },
  {
   "cell_type": "code",
   "execution_count": null,
   "metadata": {},
   "outputs": [],
   "source": [
    "task2_A = np.array([\n",
    "    [0, 4, 0, 0],\n",
    "    [-4, 0, 0, 0],\n",
    "    [0, 0, 0, 3],\n",
    "    [0, 0, -3, 0]\n",
    "])\n",
    "\n",
    "task2_C = np.array([[5, 0, 0, 9]])\n",
    "\n",
    "task2_specs = np.array([\n",
    "    [-4, -4, -4, -4],\n",
    "    [-4, -40, -400, -400],\n",
    "    [-4, -8, 5j, -5j],\n",
    "    [-4, -8, -1 + 5j, -1 - 5j],\n",
    "])\n",
    "\n",
    "task2_x0 = np.array([1, 1, 1, 1])\n",
    "task2_xh0 = np.array([2, 0, 0, -1])"
   ]
  },
  {
   "cell_type": "code",
   "execution_count": null,
   "metadata": {},
   "outputs": [],
   "source": [
    "np.zeros((task2_A.shape[0], 1))"
   ]
  },
  {
   "cell_type": "code",
   "execution_count": null,
   "metadata": {},
   "outputs": [],
   "source": [
    "def task2_simulate(A, C, L, x0, xh0, ts):\n",
    "    ss_orig = control.ss(A, np.zeros((A.shape[0], 1)), C, np.zeros((C.shape[0], 1)))\n",
    "    original_resp = control.forced_response(ss_orig, X0=x0, T=ts)\n",
    "    ss = control.ss(A + L@C, L, A*0, L*0)\n",
    "    return original_resp, control.forced_response(ss, X0=xh0, T=ts, U=original_resp.outputs.reshape(-1))\n",
    "\n",
    "def task2_get_L(A, C, G, Y):\n",
    "    Q = cvxpy.Variable(A.shape)\n",
    "    objective = cvxpy.Minimize(cvxpy.sum_squares(G @ Q - Q @ A - Y @ C))\n",
    "    prob = cvxpy.Problem(objective)\n",
    "    print(f'Optimization error: {prob.solve()}, rankP = {np.linalg.matrix_rank(Q.value)}')\n",
    "    return np.linalg.pinv(Q.value) @ Y"
   ]
  },
  {
   "cell_type": "code",
   "execution_count": null,
   "metadata": {},
   "outputs": [],
   "source": [
    "check_observability_eigens(task2_C, task2_A)"
   ]
  },
  {
   "cell_type": "code",
   "execution_count": 135,
   "metadata": {},
   "outputs": [
    {
     "name": "stdout",
     "output_type": "stream",
     "text": [
      "\n",
      "======== [-4.+0.j -4.+0.j -4.+0.j -4.+0.j] ========\n",
      "Optimization error: 7.888609052210118e-31, rankP = 4\n",
      "RankU = 4\n",
      "Eigen values of A:\n",
      "   [-4.+0.j]: controllable\n",
      "   [-4.+0.j]: controllable\n",
      "   [-4.+0.j]: controllable\n",
      "   [-4.+0.j]: controllable\n",
      "L = [[ 1.0e-12]\n",
      " [-7.3e+00]\n",
      " [-2.8e+00]\n",
      " [-1.8e+00]]\n",
      "\\begin{bmatrix}\n",
      "  0.00 & -7.31 & -2.79 & -1.78\n",
      "\\end{bmatrix}\n",
      "[-4.+0.j -4.-0.j -4.+0.j -4.-0.j]\n"
     ]
    },
    {
     "name": "stderr",
     "output_type": "stream",
     "text": [
      "/Users/lalayants/.pyenv/versions/3.10.9/envs/control-theory-itmo/lib/python3.10/site-packages/control/statesp.py:114: ComplexWarning: Casting complex values to real discards the imaginary part\n",
      "  arr = np.array(data, dtype=float)\n"
     ]
    },
    {
     "name": "stdout",
     "output_type": "stream",
     "text": [
      "\n",
      "======== [  -4.+0.j  -40.+0.j -400.+0.j -400.+0.j] ========\n",
      "Optimization error: 1.581429225584969e-30, rankP = 4\n",
      "RankU = 4\n",
      "Eigen values of A:\n",
      "   [-4.+0.j]: controllable\n",
      "   [-40.+0.j]: controllable\n",
      "   [-400.+0.j]: controllable\n",
      "   [-400.+0.j]: controllable\n",
      "L = [[ 204414.2]\n",
      " [ 160532.1]\n",
      " [ 126147.3]\n",
      " [-113657.2]]\n",
      "\\begin{bmatrix}\n",
      "  204414.17 &  160532.11 &  126147.31 & -113657.21\n",
      "\\end{bmatrix}\n",
      "[-400.+0.j -400.-0.j  -40.+0.j   -4.+0.j]\n"
     ]
    },
    {
     "name": "stderr",
     "output_type": "stream",
     "text": [
      "/Users/lalayants/.pyenv/versions/3.10.9/envs/control-theory-itmo/lib/python3.10/site-packages/control/statesp.py:114: ComplexWarning: Casting complex values to real discards the imaginary part\n",
      "  arr = np.array(data, dtype=float)\n"
     ]
    },
    {
     "name": "stdout",
     "output_type": "stream",
     "text": [
      "\n",
      "======== [-4.+0.j -8.+0.j  0.+5.j -0.-5.j] ========\n",
      "Optimization error: 7.099748146989106e-30, rankP = 4\n",
      "RankU = 4\n",
      "Eigen values of A:\n",
      "   [0.+5.j]: controllable\n",
      "   [-2.2e-16-5.j]: controllable\n",
      "   [-4.+0.j]: controllable\n",
      "   [-8.+0.j]: controllable\n",
      "L = [[ 3.1]\n",
      " [ 1. ]\n",
      " [ 1.9]\n",
      " [-3. ]]\n",
      "\\begin{bmatrix}\n",
      "  3.09 &  1.03 &  1.95 & -3.05\n",
      "\\end{bmatrix}\n",
      "[-3.8e-15+5.j -3.8e-15-5.j -8.0e+00+0.j -4.0e+00+0.j]\n"
     ]
    },
    {
     "name": "stderr",
     "output_type": "stream",
     "text": [
      "/Users/lalayants/.pyenv/versions/3.10.9/envs/control-theory-itmo/lib/python3.10/site-packages/control/statesp.py:114: ComplexWarning: Casting complex values to real discards the imaginary part\n",
      "  arr = np.array(data, dtype=float)\n"
     ]
    },
    {
     "name": "stdout",
     "output_type": "stream",
     "text": [
      "\n",
      "======== [-4.+0.j -8.+0.j -1.+5.j -1.-5.j] ========\n",
      "Optimization error: 1.4396711520283465e-29, rankP = 4\n",
      "RankU = 4\n",
      "Eigen values of A:\n",
      "   [-1.+5.j]: controllable\n",
      "   [-1.-5.j]: controllable\n",
      "   [-4.+0.j]: controllable\n",
      "   [-8.+0.j]: controllable\n",
      "L = [[ 4.3]\n",
      " [-1.6]\n",
      " [ 0.9]\n",
      " [-4. ]]\n",
      "\\begin{bmatrix}\n",
      "  4.34 & -1.60 &  0.93 & -3.97\n",
      "\\end{bmatrix}\n",
      "[-8.+0.j -1.+5.j -1.-5.j -4.+0.j]\n"
     ]
    },
    {
     "name": "stderr",
     "output_type": "stream",
     "text": [
      "/Users/lalayants/.pyenv/versions/3.10.9/envs/control-theory-itmo/lib/python3.10/site-packages/control/statesp.py:114: ComplexWarning: Casting complex values to real discards the imaginary part\n",
      "  arr = np.array(data, dtype=float)\n"
     ]
    }
   ],
   "source": [
    "for indx, specs in enumerate(task1_specs):\n",
    "    print(f'\\n======== {specs} ========')\n",
    "    new_g = task1_get_G(specs)\n",
    "    new_y = np.ones((task1_A.shape[0], task2_C.shape[0]))\n",
    "    \n",
    "    L = task2_get_L(task2_A, task2_C, new_g, new_y).astype(np.float64)\n",
    "    check_controllability(new_g, new_y)\n",
    "    check_controllability_eigens(new_g, new_y)\n",
    "    \n",
    "    print(f'L = {L}')\n",
    "    print(a2l.to_ltx(L.T, frmt = '{:2.2f}', arraytype = 'bmatrix', print_out=False))\n",
    "    print(np.linalg.eigvals(task2_A + L @ task2_C))\n",
    "    \n",
    "    ts = get_t(10)\n",
    "    original_resp, observer_resp = task2_simulate(task2_A, task2_C, L, task2_x0, task2_xh0, ts)\n",
    "\n",
    "    fig, axs = plt.subplots(2, 2, figsize=(8, 5))\n",
    "    plt.subplots_adjust(left=0.1, bottom=0.1, right=0.9, top=0.9, wspace=0.4,hspace=0.4)\n",
    "    for i in range(original_resp.states.shape[0]):\n",
    "        axs[i//2, i % 2].plot(ts, original_resp.states[i], color='r', linewidth=4, label='system')\n",
    "        axs[i//2, i % 2].plot(ts, -observer_resp.states[i], '--', color='g', linewidth = 2, label='observer')\n",
    "        axs[i//2, i % 2].set_title(f'$x_{i} = x_{i}(t)$', fontsize=12)\n",
    "        axs[i//2, i % 2].set_xlabel(f\"t, [c]\", fontsize=12)\n",
    "        axs[i//2, i % 2].grid(True)\n",
    "        axs[i//2, i % 2].legend()\n",
    "    plt.savefig(f'{SAVE_PATH}/task2_states_{indx}.jpg')\n",
    "    plt.close()\n",
    "\n",
    "    plt.plot(ts, original_resp.outputs.reshape(-1), linewidth = 3, label='system')\n",
    "    plt.plot(ts, -(task2_C @ observer_resp.states).reshape(-1), '--', linewidth = 3, label='observer')\n",
    "    plt.plot(ts, original_resp.outputs.reshape(-1) + (task2_C @ observer_resp.states).reshape(-1), '--', linewidth = 3, label='error')\n",
    "    \n",
    "    plt.grid(True)\n",
    "    plt.legend()\n",
    "    plt.title(f'y = y(t)', fontsize=12)\n",
    "    plt.xlabel(f\"t, [c]\", fontsize=12)\n",
    "    plt.savefig(f'{SAVE_PATH}/task2_y_{indx}.jpg')\n",
    "    plt.close()"
   ]
  },
  {
   "cell_type": "markdown",
   "metadata": {},
   "source": [
    "## Task 3"
   ]
  },
  {
   "cell_type": "code",
   "execution_count": 129,
   "metadata": {},
   "outputs": [],
   "source": [
    "task3_A = np.array([\n",
    "    [5, -5, -9, 3],\n",
    "    [-5, 5, -3, 9],\n",
    "    [-9, -3, 5, 5],\n",
    "    [3, 9, 5, 5]\n",
    "])\n",
    "\n",
    "task3_B = np.array([[16], \n",
    "                    [12], \n",
    "                    [12], \n",
    "                    [12]])\n",
    "\n",
    "task3_C = np.array([\n",
    "    [3, -1, 1, 3],\n",
    "    [-2, 2, 2, 2]\n",
    "                    ])\n",
    "\n",
    "specs = [-12, -1, -2, -3]\n",
    "# specs = [-12, -0.1, -0.2, -0.3]\n"
   ]
  },
  {
   "cell_type": "code",
   "execution_count": 130,
   "metadata": {},
   "outputs": [
    {
     "name": "stdout",
     "output_type": "stream",
     "text": [
      "Eigen values of A:\n",
      "   [-12.]: controllable\n",
      "   [4.]: controllable\n",
      "   [16.]: controllable\n",
      "   [12.]: controllable\n"
     ]
    }
   ],
   "source": [
    "check_controllability_eigens(task3_A, task3_B)"
   ]
  },
  {
   "cell_type": "code",
   "execution_count": null,
   "metadata": {},
   "outputs": [],
   "source": [
    "new_g = task1_get_G(specs)\n",
    "new_y = np.ones((task1_B.shape[1], task1_A.shape[0]))\n",
    "# print(f'G:\\n{new_g}')\n",
    "# print(f'Y:\\n{new_y}')\n",
    "\n",
    "K = task1_get_K(task3_A, task3_B, new_g, new_y).astype(np.float64)\n",
    "check_observability(new_y, new_g)\n",
    "check_observability_eigens(new_y, new_g)"
   ]
  },
  {
   "cell_type": "code",
   "execution_count": 131,
   "metadata": {},
   "outputs": [
    {
     "name": "stdout",
     "output_type": "stream",
     "text": [
      "Eigen values of A:\n",
      "   [-12.]: not observable\n",
      "   [4.]: observable\n",
      "   [16.]: observable\n",
      "   [12.]: observable\n"
     ]
    }
   ],
   "source": [
    "check_observability_eigens(task3_C, task3_A)"
   ]
  },
  {
   "cell_type": "code",
   "execution_count": null,
   "metadata": {},
   "outputs": [],
   "source": [
    "new_g = task1_get_G(specs)\n",
    "new_y = np.ones((task3_A.shape[0], task3_C.shape[0]))\n",
    "\n",
    "new_y[0, :] = 0\n",
    "print(new_y)\n",
    "\n",
    "\n",
    "L = task2_get_L(task3_A, task3_C, new_g, new_y).astype(np.float64)\n",
    "check_controllability(new_g, new_y)\n",
    "check_controllability_eigens(new_g, new_y)"
   ]
  },
  {
   "cell_type": "code",
   "execution_count": null,
   "metadata": {},
   "outputs": [],
   "source": [
    "task3_new_A = np.block([[task3_A + task3_B @ K, -task3_B @ K], [np.zeros((task3_A.shape[0], K.shape[1] * 2 - task3_C.shape[1])), task3_A + L @ task3_C]])\n",
    "task3_new_A"
   ]
  },
  {
   "cell_type": "code",
   "execution_count": null,
   "metadata": {},
   "outputs": [],
   "source": [
    "ss = control.ss(task3_new_A, task3_new_A * 0, task3_new_A * 0, task3_new_A * 0)\n",
    "\n",
    "ts = get_t(15)\n",
    "res = control.forced_response(ss, T=ts, X0=1)\n",
    "x = res.states[:4]\n",
    "e = res.states[4:]\n",
    "\n",
    "xh = x - e\n",
    "y = task3_C @ x\n",
    "yh = task3_C @ xh\n",
    "\n",
    "u = K @ xh"
   ]
  },
  {
   "cell_type": "code",
   "execution_count": 134,
   "metadata": {},
   "outputs": [
    {
     "data": {
      "image/png": "[encoded data removed]",
      "text/plain": [
       "<Figure size 800x500 with 4 Axes>"
      ]
     },
     "metadata": {},
     "output_type": "display_data"
    }
   ],
   "source": [
    "fig, axs = plt.subplots(2, 2, figsize=(8, 5))\n",
    "plt.subplots_adjust(left=0.1, bottom=0.1, right=0.9, top=0.9, wspace=0.4,hspace=0.4)\n",
    "for i in range(original_resp.states.shape[0]):\n",
    "    axs[i//2, i % 2].plot(ts, x[i], color='r', linewidth=4, label='system')\n",
    "    axs[i//2, i % 2].plot(ts, xh[i], '--', color='g', linewidth = 2, label='observer')\n",
    "    axs[i//2, i % 2].plot(ts, e[i], '--', color='b', linewidth = 2, label='error')\n",
    "    axs[i//2, i % 2].set_title(f'$x_{i} = x_{i}(t)$', fontsize=12)\n",
    "    axs[i//2, i % 2].set_xlabel(f\"t, [c]\", fontsize=12)\n",
    "    axs[i//2, i % 2].grid(True)\n",
    "    axs[i//2, i % 2].legend()\n",
    "plt.savefig(f'{SAVE_PATH}/task3_states.jpg')"
   ]
  },
  {
   "cell_type": "code",
   "execution_count": null,
   "metadata": {},
   "outputs": [],
   "source": [
    "fig, axs = plt.subplots(1, 2, figsize=(16, 6))\n",
    "plt.subplots_adjust(left=0.1, bottom=0.1, right=0.9, top=0.9, wspace=0.4,hspace=0.4)\n",
    "\n",
    "axs[0].plot(ts, y[0], color='r', linewidth=4, label='system')\n",
    "axs[0].plot(ts, yh[0], '--', color='g', linewidth = 2, label='observer')\n",
    "axs[0].set_title(f'$y_1 = y_1(t)$', fontsize=12)\n",
    "axs[0].set_xlabel(f\"t, [c]\", fontsize=12)\n",
    "axs[0].grid(True)\n",
    "axs[0].legend()\n",
    "\n",
    "axs[1].plot(ts, y[1], color='r', linewidth=4, label='system')\n",
    "axs[1].plot(ts, yh[1], '--', color='g', linewidth = 2, label='observer')\n",
    "axs[1].set_title(f'$y_2 = y_2(t)$', fontsize=12)\n",
    "axs[1].set_xlabel(f\"t, [c]\", fontsize=12)\n",
    "axs[1].grid(True)\n",
    "axs[1].legend()\n",
    "\n",
    "\n",
    "plt.savefig(f'{SAVE_PATH}/task3_y.jpg')"
   ]
  },
  {
   "cell_type": "code",
   "execution_count": null,
   "metadata": {},
   "outputs": [],
   "source": [
    "plt.plot(ts, u.reshape(-1))\n",
    "plt.title(f'$u = u(t)$', fontsize=12)\n",
    "plt.xlabel(f\"t, [c]\", fontsize=12)\n",
    "plt.grid(True)\n",
    "plt.savefig(f'{SAVE_PATH}/task3_u.jpg')"
   ]
  },
  {
   "cell_type": "code",
   "execution_count": 128,
   "metadata": {},
   "outputs": [
    {
     "name": "stdout",
     "output_type": "stream",
     "text": [
      "\\begin{bmatrix}\n",
      "  36.20 &  36.20\\\\\n",
      "  6.46 &  6.46\\\\\n",
      " -36.74 & -36.74\\\\\n",
      "  5.91 &  5.91\n",
      "\\end{bmatrix}\n"
     ]
    }
   ],
   "source": [
    "a2l.to_ltx(L)"
   ]
  },
  {
   "cell_type": "code",
   "execution_count": null,
   "metadata": {},
   "outputs": [],
   "source": []
  }
 ],
 "metadata": {
  "kernelspec": {
   "display_name": "venv10",
   "language": "python",
   "name": "python3"
  },
  "language_info": {
   "codemirror_mode": {
    "name": "ipython",
    "version": 3
   },
   "file_extension": ".py",
   "mimetype": "text/x-python",
   "name": "python",
   "nbconvert_exporter": "python",
   "pygments_lexer": "ipython3",
   "version": "3.10.9"
  }
 },
 "nbformat": 4,
 "nbformat_minor": 2
}
