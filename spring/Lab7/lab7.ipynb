{
 "cells": [
  {
   "cell_type": "markdown",
   "metadata": {},
   "source": [
    "Кирилл Лалаянц, R33352"
   ]
  },
  {
   "cell_type": "markdown",
   "metadata": {},
   "source": [
    "# Лабораторная работа No7\n",
    "# В -- 11\n",
    "## Управляемость и наблюдаемость"
   ]
  },
  {
   "cell_type": "markdown",
   "metadata": {},
   "source": [
    "Импорт необходимых для работы библиотек. "
   ]
  },
  {
   "cell_type": "code",
   "execution_count": null,
   "metadata": {},
   "outputs": [],
   "source": [
    "import matplotlib.pyplot as plt\n",
    "import numpy as np\n",
    "import control \n",
    "import sympy\n",
    "import os\n",
    "import scipy\n",
    "\n",
    "SAVE_PATH = 'tex-report/src/figs/'\n",
    "os.makedirs(SAVE_PATH, exist_ok=True)\n",
    "\n",
    "sympy.init_printing()\n",
    "p = sympy.Symbol(\"p\")\n",
    "s = sympy.Symbol(\"s\")\n",
    "t = sympy.Symbol(\"t\")\n",
    "w = sympy.Symbol(\"w\")\n",
    "I = sympy.I\n",
    "\n",
    "\n",
    "def get_t(end_t = 10, dt=0.001, start_t = 0):\n",
    "    return np.linspace(start_t, end_t, int(end_t / dt))"
   ]
  },
  {
   "cell_type": "markdown",
   "metadata": {},
   "source": [
    "## Task1"
   ]
  },
  {
   "cell_type": "code",
   "execution_count": null,
   "metadata": {},
   "outputs": [],
   "source": [
    "task1_A = np.array([\n",
    "    [3, 4, -1],\n",
    "    [-10, -11, -4],\n",
    "    [10, 10, 3]\n",
    "])\n",
    "\n",
    "task1_B = np.array([[-2], [5], [-3]])\n",
    "\n",
    "task1_x1 = np.array([[-2], [1], [-1]])\n",
    "task1_end_time = 3"
   ]
  },
  {
   "cell_type": "code",
   "execution_count": null,
   "metadata": {},
   "outputs": [],
   "source": [
    "def get_controllability_matrix(A, B):\n",
    "    ctrb_m = np.hstack((B, *[(np.linalg.matrix_power(A, i)) @ B for i in range(1, A.shape[0])]))\n",
    "    assert np.allclose(control.ctrb(A, B), ctrb_m), 'Smth wrong'\n",
    "    return ctrb_m\n",
    "\n",
    "def check_controllability(A, B, end_time):\n",
    "    print('======== System check ==========')\n",
    "    A_sympy, B_sympy = sympy.Matrix(A), sympy.Matrix(B)\n",
    "    U = get_controllability_matrix(A, B)\n",
    "    print(f'U: \\n{U}')\n",
    "    print(f'RankU = {np.linalg.matrix_rank(U)}')\n",
    "    print(f'Eigen values of A: {np.linalg.eigvals(A)}')\n",
    "    A_P, A_J = A_sympy.jordan_form()\n",
    "    print(f'Jordan of A: {A_J}')\n",
    "    print(f'B^ = {(A_P **-1 ) * B_sympy}')\n",
    "    control_gramian_matrix, control_gramian_error = get_controllability_gramian(A, B, end_time)\n",
    "    print(f'Controllability Gramian at {end_time}s: \\n{control_gramian_matrix}')\n",
    "    print(f'Eigen values of Controllability Gramian at {end_time}s: {np.linalg.eigvals(control_gramian_matrix)}')\n",
    "    \n",
    "\n",
    "def check_controllability_of_point(A, B, x1):\n",
    "    print(f'======== Controllability of {x1.reshape(-1)} ==========')\n",
    "    U = get_controllability_matrix(A, B)\n",
    "    U_extended = np.hstack((U, x1))\n",
    "    rgU_extended = np.linalg.matrix_rank(np.hstack((U, x1)))\n",
    "    print(f'U_ext: \\n {U_extended}')\n",
    "    # print(np.linalg.svd(U_extended, compute_uv=False))\n",
    "    print(f'Rang(U_ext) = {rgU_extended}')\n",
    "    controllable =  rgU_extended == A.shape[0]\n",
    "    print(f'In Controllable Space: {controllable}')\n",
    "    return controllable\n",
    "\n",
    "def get_controllability_gramian(A, B, end_time):\n",
    "    f = lambda time: scipy.linalg.expm(A * time) @ B @ B.T @ scipy.linalg.expm(A.T * time)\n",
    "    return scipy.integrate.quad_vec(f, 0, end_time)\n",
    "\n",
    "def get_u_for_controllable(A, B, x1, end_time):\n",
    "    u = []\n",
    "    times = get_t(end_time)\n",
    "    control_gramian_matrix, _ = get_controllability_gramian(A, B, end_time)\n",
    "    for t in times:\n",
    "        u.append(B.T @ scipy.linalg.expm(A.T * (end_time - t)) @ np.linalg.inv(control_gramian_matrix) @ x1)\n",
    "    return np.array(u).reshape((B.shape[1], -1)), times\n",
    "\n",
    "def plot_task1(A, B, x1, end_time, file_name='test.jpg'):\n",
    "    u, times = get_u_for_controllable(A, B, x1, end_time)\n",
    "    ss = control.ss(A, B, A * 0, B * 0)\n",
    "    output = control.forced_response(ss, X0=[0,0,0], U=u, T=times).states\n",
    "\n",
    "    fig, axs = plt.subplots(2, 2, figsize=(8, 8))\n",
    "    plt.subplots_adjust(left=0.1, bottom=0.1, right=0.9, top=0.9, wspace=0.4,hspace=0.4)\n",
    "    for i in range(3):\n",
    "        axs[i//2, i % 2].plot(times, output[i], linewidth=4)\n",
    "        axs[i//2, i % 2].scatter(end_time, x1[i], color='r', linewidth=4, label='goal')\n",
    "        axs[i//2, i % 2].set_title(f'x_{i} = x_{i}(t)', fontsize=12)\n",
    "        axs[i//2, i % 2].set_xlabel(f\"t, [c]\", fontsize=12)\n",
    "        axs[i//2, i % 2].grid(True)\n",
    "        axs[i//2, i % 2].legend()\n",
    "        \n",
    "        \n",
    "    axs[1, 1].plot(times, u.reshape(-1), linewidth=4)\n",
    "    axs[1, 1].set_title(f'u = u(t)', fontsize=12)\n",
    "    axs[1, 1].set_xlabel(f\"t, [c]\", fontsize=12)\n",
    "    axs[1, 1].grid(True)\n",
    "    plt.savefig(f'{SAVE_PATH}/{file_name}.jpg') "
   ]
  },
  {
   "cell_type": "code",
   "execution_count": null,
   "metadata": {},
   "outputs": [],
   "source": [
    "check_controllability(task1_A, task1_B, task1_end_time)\n",
    "check_controllability_of_point(task1_A, task1_B, task1_x1)"
   ]
  },
  {
   "cell_type": "code",
   "execution_count": null,
   "metadata": {},
   "outputs": [],
   "source": [
    "plot_task1(task1_A, task1_B, task1_x1, task1_end_time, 'task1')"
   ]
  },
  {
   "cell_type": "markdown",
   "metadata": {},
   "source": [
    "## Task 2"
   ]
  },
  {
   "cell_type": "code",
   "execution_count": null,
   "metadata": {},
   "outputs": [],
   "source": [
    "task2_A = np.array([\n",
    "    [3, 4, -1],\n",
    "    [-10, -11, -4],\n",
    "    [10, 10, 3]\n",
    "])\n",
    "\n",
    "task2_B = np.array([[2], [1], [-1]])\n",
    "\n",
    "task2_mbx1 = np.array([[-2], [1], [-1]])\n",
    "task2_mbx2 = np.array([[-5], [4], [-1]])\n",
    "\n",
    "task2_end_time = 3"
   ]
  },
  {
   "cell_type": "code",
   "execution_count": null,
   "metadata": {},
   "outputs": [],
   "source": [
    "check_controllability(task2_A, task2_B, task2_end_time)\n",
    "is_mbx1 = check_controllability_of_point(task2_A, task2_B, task2_mbx1)\n",
    "is_mbx2 = check_controllability_of_point(task2_A, task2_B, task2_mbx2)\n",
    "\n",
    "assert is_mbx1 + is_mbx2 == 1, 'Two or zero controllable points'\n",
    "task2_x1 = task2_mbx1 if is_mbx1 else task2_mbx2"
   ]
  },
  {
   "cell_type": "code",
   "execution_count": null,
   "metadata": {},
   "outputs": [],
   "source": [
    "plot_task1(task2_A, task2_B, task2_x1, task2_end_time, 'task2')"
   ]
  },
  {
   "cell_type": "code",
   "execution_count": null,
   "metadata": {},
   "outputs": [],
   "source": []
  }
 ],
 "metadata": {
  "kernelspec": {
   "display_name": "venv10",
   "language": "python",
   "name": "python3"
  },
  "language_info": {
   "codemirror_mode": {
    "name": "ipython",
    "version": 3
   },
   "file_extension": ".py",
   "mimetype": "text/x-python",
   "name": "python",
   "nbconvert_exporter": "python",
   "pygments_lexer": "ipython3",
   "version": "3.10.9"
  }
 },
 "nbformat": 4,
 "nbformat_minor": 2
}
