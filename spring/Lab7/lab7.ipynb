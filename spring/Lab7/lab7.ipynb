{
 "cells": [
  {
   "cell_type": "markdown",
   "metadata": {},
   "source": [
    "Кирилл Лалаянц, R33352"
   ]
  },
  {
   "cell_type": "markdown",
   "metadata": {},
   "source": [
    "# Лабораторная работа No7\n",
    "# В -- 11\n",
    "## Управляемость и наблюдаемость"
   ]
  },
  {
   "cell_type": "markdown",
   "metadata": {},
   "source": [
    "Импорт необходимых для работы библиотек. "
   ]
  },
  {
   "cell_type": "code",
   "execution_count": null,
   "metadata": {},
   "outputs": [],
   "source": [
    "import matplotlib.pyplot as plt\n",
    "import numpy as np\n",
    "import control \n",
    "import sympy\n",
    "import os\n",
    "import scipy\n",
    "\n",
    "SAVE_PATH = 'tex-report/src/figs/'\n",
    "os.makedirs(SAVE_PATH, exist_ok=True)\n",
    "\n",
    "sympy.init_printing()\n",
    "p = sympy.Symbol(\"p\")\n",
    "s = sympy.Symbol(\"s\")\n",
    "t = sympy.Symbol(\"t\")\n",
    "w = sympy.Symbol(\"w\")\n",
    "I = sympy.I\n",
    "\n",
    "\n",
    "def get_t(end_t = 10, dt=0.001, start_t = 0):\n",
    "    return np.linspace(start_t, end_t, int(end_t / dt))"
   ]
  },
  {
   "cell_type": "markdown",
   "metadata": {},
   "source": [
    "## Task1"
   ]
  },
  {
   "cell_type": "code",
   "execution_count": null,
   "metadata": {},
   "outputs": [],
   "source": [
    "task1_A = np.array([\n",
    "    [3, 4, -1],\n",
    "    [-10, -11, -4],\n",
    "    [10, 10, 3]\n",
    "])\n",
    "\n",
    "task1_B = np.array([[-2], [5], [-3]])\n",
    "\n",
    "task1_x1 = np.array([[-2], [1], [-1]])\n",
    "task1_end_time = 3"
   ]
  },
  {
   "cell_type": "code",
   "execution_count": null,
   "metadata": {},
   "outputs": [],
   "source": [
    "def get_controllability_matrix(A, B):\n",
    "    ctrb_m = np.hstack((B, *[(np.linalg.matrix_power(A, i)) @ B for i in range(1, A.shape[0])]))\n",
    "    assert np.allclose(control.ctrb(A, B), ctrb_m), 'Smth wrong'\n",
    "    return ctrb_m\n",
    "\n",
    "def check_controllability(A, B, end_time):\n",
    "    print('======== System check ==========')\n",
    "    A_sympy, B_sympy = sympy.Matrix(A), sympy.Matrix(B)\n",
    "    U = get_controllability_matrix(A, B)\n",
    "    print(f'U: \\n{U}')\n",
    "    print(f'RankU = {np.linalg.matrix_rank(U)}')\n",
    "    eig_vals = np.linalg.eigvals(A)\n",
    "    print(f'Eigen values of A:')\n",
    "    for val in eig_vals:\n",
    "        print(f\"   {val}: {'controllable' if np.linalg.matrix_rank(np.hstack(((A - val * np.eye(A.shape[0])), B))) == A.shape[0] else 'not controllable'}\")\n",
    "    A_P, A_J = A_sympy.jordan_form()\n",
    "    print(f'Jordan of A: {A_J}')\n",
    "    print(f'B^ = {(A_P ** -1 ) * B_sympy}')\n",
    "    control_gramian_matrix, control_gramian_error = get_controllability_gramian(A, B, end_time)\n",
    "    print(f'Controllability Gramian at {end_time}s: \\n{control_gramian_matrix}')\n",
    "    print(f'Eigen values of Controllability Gramian at {end_time}s: {np.linalg.eigvals(control_gramian_matrix)}')\n",
    "    \n",
    "\n",
    "def check_controllability_of_point(A, B, x1):\n",
    "    print(f'======== Controllability of {x1.reshape(-1)} ==========')\n",
    "    U = get_controllability_matrix(A, B)\n",
    "    rgU = np.linalg.matrix_rank(U)\n",
    "    print(f'Rang(U): \\n {rgU}')\n",
    "    \n",
    "    U_extended = np.hstack((U, x1))\n",
    "    rgU_extended = np.linalg.matrix_rank(np.hstack((U, x1)))\n",
    "    print(f'U_ext: \\n {U_extended}')\n",
    "    print(f'Rang(U_ext) = {rgU_extended}')\n",
    "    \n",
    "    controllable =  rgU_extended == rgU\n",
    "    print(f'In Controllable Space: {controllable}')\n",
    "    return controllable\n",
    "\n",
    "def get_controllability_gramian(A, B, end_time):\n",
    "    f = lambda time: scipy.linalg.expm(A * time) @ B @ B.T @ scipy.linalg.expm(A.T * time)\n",
    "    return scipy.integrate.quad_vec(f, 0, end_time)\n",
    "\n",
    "def get_u_for_controllable(A, B, x1, end_time):\n",
    "    u = []\n",
    "    times = get_t(end_time)\n",
    "    control_gramian_matrix, _ = get_controllability_gramian(A, B, end_time)\n",
    "    print(control_gramian_matrix @ np.linalg.inv(control_gramian_matrix))\n",
    "    for t in times:\n",
    "        u.append(B.T @ scipy.linalg.expm(A.T * (end_time - t)) @ np.linalg.pinv(control_gramian_matrix) @ x1)\n",
    "    return np.array(u).reshape((B.shape[1], -1)), times\n",
    "\n",
    "def plot_task1(A, B, x1, end_time, file_name='test.jpg'):\n",
    "    u, times = get_u_for_controllable(A, B, x1, end_time)\n",
    "    ss = control.ss(A, B, A * 0, B * 0)\n",
    "    output = control.forced_response(ss, X0=[0,0,0], U=u, T=times).states\n",
    "\n",
    "    fig, axs = plt.subplots(2, 2, figsize=(8, 8))\n",
    "    plt.subplots_adjust(left=0.1, bottom=0.1, right=0.9, top=0.9, wspace=0.4,hspace=0.4)\n",
    "    for i in range(3):\n",
    "        axs[i//2, i % 2].plot(times, output[i], linewidth=4)\n",
    "        axs[i//2, i % 2].scatter(end_time, x1[i], color='r', linewidth=4, label='goal')\n",
    "        axs[i//2, i % 2].set_title(f'x_{i} = x_{i}(t)', fontsize=12)\n",
    "        axs[i//2, i % 2].set_xlabel(f\"t, [c]\", fontsize=12)\n",
    "        axs[i//2, i % 2].grid(True)\n",
    "        axs[i//2, i % 2].legend()\n",
    "        \n",
    "        \n",
    "    axs[1, 1].plot(times, u.reshape(-1), linewidth=4)\n",
    "    axs[1, 1].set_title(f'u = u(t)', fontsize=12)\n",
    "    axs[1, 1].set_xlabel(f\"t, [c]\", fontsize=12)\n",
    "    axs[1, 1].grid(True)\n",
    "    plt.savefig(f'{SAVE_PATH}/{file_name}.jpg') "
   ]
  },
  {
   "cell_type": "code",
   "execution_count": null,
   "metadata": {},
   "outputs": [],
   "source": [
    "check_controllability(task1_A, task1_B, task1_end_time)\n",
    "check_controllability_of_point(task1_A, task1_B, task1_x1)"
   ]
  },
  {
   "cell_type": "code",
   "execution_count": null,
   "metadata": {},
   "outputs": [],
   "source": [
    "plot_task1(task1_A, task1_B, task1_x1, task1_end_time, 'task1')"
   ]
  },
  {
   "cell_type": "markdown",
   "metadata": {},
   "source": [
    "## Task 2"
   ]
  },
  {
   "cell_type": "code",
   "execution_count": null,
   "metadata": {},
   "outputs": [],
   "source": [
    "task2_A = np.array([\n",
    "    [3, 4, -1],\n",
    "    [-10, -11, -4],\n",
    "    [10, 10, 3]\n",
    "])\n",
    "\n",
    "task2_B = np.array([[2], [1], [-1]])\n",
    "\n",
    "task2_mbx1 = np.array([[-2], [1], [-1]])\n",
    "task2_mbx2 = np.array([[-5], [4], [-1]])\n",
    "\n",
    "task2_end_time = 3"
   ]
  },
  {
   "cell_type": "code",
   "execution_count": null,
   "metadata": {},
   "outputs": [],
   "source": [
    "check_controllability(task2_A, task2_B, task2_end_time)\n",
    "is_mbx1 = check_controllability_of_point(task2_A, task2_B, task2_mbx1)\n",
    "is_mbx2 = check_controllability_of_point(task2_A, task2_B, task2_mbx2)\n",
    "\n",
    "assert is_mbx1 + is_mbx2 == 1, 'Two or zero controllable points'\n",
    "task2_x1 = task2_mbx1 if is_mbx1 else task2_mbx2"
   ]
  },
  {
   "cell_type": "code",
   "execution_count": null,
   "metadata": {},
   "outputs": [],
   "source": [
    "plot_task1(task2_A, task2_B, task2_x1, task2_end_time, 'task2')"
   ]
  },
  {
   "cell_type": "markdown",
   "metadata": {},
   "source": [
    "## Task3"
   ]
  },
  {
   "cell_type": "code",
   "execution_count": null,
   "metadata": {},
   "outputs": [],
   "source": [
    "task3_A = np.array([\n",
    "    [-21, -38, 6],\n",
    "    [8, 13, -4],\n",
    "    [-6, -14, -1]\n",
    "])\n",
    "\n",
    "task3_C = np.array([9, 8, -2]).reshape((1, 3))\n",
    "\n",
    "task3_y = lambda x: 3 * np.exp(-5 * x) * np.cos(2 * x) - np.exp(-5 * x) * np.sin(2 * x)\n",
    "\n",
    "task3_end_time = 3"
   ]
  },
  {
   "cell_type": "code",
   "execution_count": null,
   "metadata": {},
   "outputs": [],
   "source": [
    "def get_observability_matrix(A, C):\n",
    "    ctrb_m = np.vstack((C, *[C @ np.linalg.matrix_power(A, i) for i in range(1, A.shape[0])]))\n",
    "    assert np.allclose(control.obsv(A, C), ctrb_m), 'Smth wrong'\n",
    "    return ctrb_m\n",
    "\n",
    "def get_observability_gramian(A, C, end_time):\n",
    "    f = lambda time: scipy.linalg.expm(A.T * time) @ C.T @ C @ scipy.linalg.expm(A * time)\n",
    "    return scipy.integrate.quad_vec(f, 0, end_time)\n",
    "\n",
    "def check_observability(A, C, end_time):\n",
    "    print('======== System check ==========')\n",
    "    A_sympy, C_sympy = sympy.Matrix(A), sympy.Matrix(C)\n",
    "    V = get_observability_matrix(A, C)\n",
    "    print(f'V: \\n{V}')\n",
    "    print(f'RankV = {np.linalg.matrix_rank(V)}')\n",
    "    eig_vals = np.linalg.eigvals(A)\n",
    "    print(f'Eigen values of A:')\n",
    "    for val in eig_vals:\n",
    "        print(f\"   {val}: {'observable' if np.linalg.matrix_rank(np.vstack(((A - val * np.eye(A.shape[0])), C))) == A.shape[0] else 'not observable'}\")\n",
    "    A_P, A_J = A_sympy.jordan_form()\n",
    "    print(f'Jordan of A: {A_J}')\n",
    "    print(f'C^ = {C_sympy * A_P}')\n",
    "    observability_gramian_matrix, observability_gramian_error = get_observability_gramian(A, C, end_time)\n",
    "    print(f'Observability Gramian at {end_time}s: \\n{observability_gramian_matrix}')\n",
    "    print(f'Eigen values of Observability Gramian at {end_time}s: {np.linalg.eigvals(observability_gramian_matrix)}')\n",
    "    \n",
    "\n",
    "def check_non_observability_of_point(A, C, x1):\n",
    "    print(f'======== Non observability of {x1.reshape(-1)} ==========')\n",
    "    V = get_observability_matrix(A, C)\n",
    "    non_observable = np.allclose(V @ x1, 0)\n",
    "    print(f'In Non observable Space: {non_observable}')\n",
    "    return non_observable\n",
    "\n",
    "def get_initial_state_for_observable(A, C, y_lambda, end_time):\n",
    "    observability_gramian_matrix, _ = get_observability_gramian(A, C, end_time)\n",
    "    f = lambda time: scipy.linalg.expm(A.T * time) @ C.T @ np.array(y_lambda(time)).reshape(C.shape[0], -1)\n",
    "    inv_gramian = np.linalg.pinv(observability_gramian_matrix)\n",
    "    return inv_gramian @ scipy.integrate.quad_vec(f, 0, end_time)[0]\n",
    "\n",
    "def plot_task3(A, C, y_lambda, end_time, file_name='test.jpg'):\n",
    "    times = get_t(3)\n",
    "    x0 = get_initial_state_for_observable(A, C, y_lambda, end_time)\n",
    "    ss = control.ss(A, A * 0, C, C * 0)\n",
    "    res = control.forced_response(ss, X0=x0, U=0, T=times)\n",
    "    output = res.states\n",
    "\n",
    "    fig, axs = plt.subplots(2, 2, figsize=(8, 8))\n",
    "    plt.subplots_adjust(left=0.1, bottom=0.1, right=0.9, top=0.9, wspace=0.4,hspace=0.4)\n",
    "    for i in range(3):\n",
    "        axs[i//2, i % 2].plot(times, output[i], linewidth=4)\n",
    "        axs[i//2, i % 2].scatter(0, x0[i], color='r', linewidth=4, label='initial')\n",
    "        axs[i//2, i % 2].set_title(f'x_{i} = x_{i}(t)', fontsize=12)\n",
    "        axs[i//2, i % 2].set_xlabel(f\"t, [c]\", fontsize=12)\n",
    "        axs[i//2, i % 2].grid(True)\n",
    "        axs[i//2, i % 2].legend()\n",
    "        \n",
    "        \n",
    "    axs[1, 1].plot(times, res.outputs.reshape(-1), linewidth=4)\n",
    "    axs[1, 1].scatter(0, C @ x0, color='r', linewidth=4, label='initial')\n",
    "    axs[1, 1].set_title(f'y = y(t)', fontsize=12)\n",
    "    axs[1, 1].set_xlabel(f\"t, [c]\", fontsize=12)\n",
    "    axs[1, 1].grid(True)\n",
    "    plt.savefig(f'{SAVE_PATH}/{file_name}.jpg') \n",
    "    return x0"
   ]
  },
  {
   "cell_type": "code",
   "execution_count": null,
   "metadata": {},
   "outputs": [],
   "source": [
    "check_observability(task3_A, task3_C, task3_end_time)\n",
    "plot_task3(task3_A, task3_C, task3_y, task3_end_time, 'task3')\n",
    "V = get_observability_matrix(task3_A, task3_C)\n",
    "null_space_vec = scipy.linalg.null_space(V)\n",
    "null_space_vec"
   ]
  },
  {
   "cell_type": "markdown",
   "metadata": {},
   "source": [
    "## Task4"
   ]
  },
  {
   "cell_type": "code",
   "execution_count": null,
   "metadata": {},
   "outputs": [],
   "source": [
    "def task4_demonstate_nullspace(A, C, x0, file_name='test'):\n",
    "    V = get_observability_matrix(A, C)\n",
    "    null_space_vec = scipy.linalg.null_space(V)\n",
    "    print(null_space_vec)\n",
    "    times = get_t(3)\n",
    "    ss = control.ss(A, A * 0, C, C * 0)\n",
    "    fig, axs = plt.subplots(2, 2, figsize=(8, 8))\n",
    "    plt.subplots_adjust(left=0.1, bottom=0.1, right=0.9, top=0.9, wspace=0.4,hspace=0.4)\n",
    "    for i in range(4):\n",
    "        new_x0 = x0 + 10 * i * null_space_vec\n",
    "        res = control.forced_response(ss, X0=new_x0, U=0, T=times)\n",
    "        output = res.states\n",
    "        for i in range(3):\n",
    "            axs[i//2, i % 2].plot(times, output[i], linewidth=4)\n",
    "            axs[i//2, i % 2].scatter(0, new_x0[i], linewidth=4, label=f'{new_x0[i]}')\n",
    "            axs[i//2, i % 2].set_title(f'x_{i} = x_{i}(t)', fontsize=12)\n",
    "            axs[i//2, i % 2].set_xlabel(f\"t, [c]\", fontsize=12)\n",
    "            axs[i//2, i % 2].grid(True)\n",
    "            axs[i//2, i % 2].legend()\n",
    "            \n",
    "            \n",
    "        axs[1, 1].plot(times, res.outputs.reshape(-1), linewidth=4)\n",
    "        axs[1, 1].scatter(0, C @ x0, color='r', linewidth=4, label=f'{x0 + i * null_space_vec}')\n",
    "        axs[1, 1].set_title(f'y = y(t)', fontsize=12)\n",
    "        axs[1, 1].set_xlabel(f\"t, [c]\", fontsize=12)\n",
    "        axs[1, 1].grid(True)\n",
    "    plt.savefig(f'{SAVE_PATH}/{file_name}.jpg') \n",
    "    "
   ]
  },
  {
   "cell_type": "code",
   "execution_count": null,
   "metadata": {},
   "outputs": [],
   "source": [
    "task4_A = np.array([\n",
    "    [-13, 2, -12],\n",
    "    [-6, -1, -8],\n",
    "    [8, -4, 5]\n",
    "])\n",
    "\n",
    "task4_C = np.array([7, 0, 7]).reshape((1, 3))\n",
    "\n",
    "task4_y = lambda x: 21 * np.exp(-5 * x) * np.cos(2 * x) - 7 * np.exp(-5 * x) * np.sin(2 * x)\n",
    "\n",
    "task4_end_time = 3"
   ]
  },
  {
   "cell_type": "code",
   "execution_count": null,
   "metadata": {},
   "outputs": [],
   "source": [
    "check_observability(task4_A, task4_C, task4_end_time)\n",
    "task4_x0 = plot_task3(task4_A, task4_C, task4_y, task4_end_time, 'task4')"
   ]
  },
  {
   "cell_type": "code",
   "execution_count": null,
   "metadata": {},
   "outputs": [],
   "source": [
    "task4_demonstate_nullspace(task4_A, task4_C, task4_x0, 'task4_nullspace')"
   ]
  },
  {
   "cell_type": "code",
   "execution_count": null,
   "metadata": {},
   "outputs": [],
   "source": []
  }
 ],
 "metadata": {
  "kernelspec": {
   "display_name": "venv10",
   "language": "python",
   "name": "python3"
  },
  "language_info": {
   "codemirror_mode": {
    "name": "ipython",
    "version": 3
   },
   "file_extension": ".py",
   "mimetype": "text/x-python",
   "name": "python",
   "nbconvert_exporter": "python",
   "pygments_lexer": "ipython3",
   "version": "3.10.9"
  }
 },
 "nbformat": 4,
 "nbformat_minor": 2
}
